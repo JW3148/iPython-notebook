{
 "cells": [
  {
   "cell_type": "code",
   "execution_count": 1,
   "metadata": {
    "collapsed": true
   },
   "outputs": [],
   "source": [
    "from __future__ import print_function # python 3 support from python 2\n"
   ]
  },
  {
   "cell_type": "code",
   "execution_count": 13,
   "metadata": {
    "collapsed": false
   },
   "outputs": [
    {
     "name": "stdout",
     "output_type": "stream",
     "text": [
      "Hello IPython\n"
     ]
    }
   ],
   "source": [
    "print(\"Hello IPython\")"
   ]
  },
  {
   "cell_type": "markdown",
   "metadata": {},
   "source": [
    "you also can mark the comments down here. "
   ]
  },
  {
   "cell_type": "code",
   "execution_count": 3,
   "metadata": {
    "collapsed": true
   },
   "outputs": [],
   "source": [
    "x = 5"
   ]
  },
  {
   "cell_type": "code",
   "execution_count": 4,
   "metadata": {
    "collapsed": false
   },
   "outputs": [
    {
     "name": "stdout",
     "output_type": "stream",
     "text": [
      "5\n"
     ]
    }
   ],
   "source": [
    "print(x)"
   ]
  },
  {
   "cell_type": "code",
   "execution_count": 5,
   "metadata": {
    "collapsed": true
   },
   "outputs": [],
   "source": [
    "def square(input_var):\n",
    "    return input_var * input_var"
   ]
  },
  {
   "cell_type": "code",
   "execution_count": 6,
   "metadata": {
    "collapsed": false
   },
   "outputs": [
    {
     "data": {
      "text/plain": [
       "25"
      ]
     },
     "execution_count": 6,
     "metadata": {},
     "output_type": "execute_result"
    }
   ],
   "source": [
    "square(x)"
   ]
  },
  {
   "cell_type": "code",
   "execution_count": 9,
   "metadata": {
    "collapsed": false
   },
   "outputs": [
    {
     "name": "stdout",
     "output_type": "stream",
     "text": [
      "\u001b[34mApplications\u001b[m\u001b[m/\r\n",
      "\u001b[34mDesktop\u001b[m\u001b[m/\r\n",
      "\u001b[34mDocuments\u001b[m\u001b[m/\r\n",
      "\u001b[34mDownloads\u001b[m\u001b[m/\r\n",
      "\u001b[34mLibrary\u001b[m\u001b[m/\r\n",
      "\u001b[34mMailman\u001b[m\u001b[m/\r\n",
      "\u001b[34mMovies\u001b[m\u001b[m/\r\n",
      "\u001b[34mMusic\u001b[m\u001b[m/\r\n",
      "\u001b[34mOneDrive - Capital One Financial Corporation\u001b[m\u001b[m/\r\n",
      "\u001b[34mPictures\u001b[m\u001b[m/\r\n",
      "\u001b[34mPublic\u001b[m\u001b[m/\r\n",
      "\u001b[34mPycharmProjects\u001b[m\u001b[m/\r\n",
      "\u001b[31mSpeedTest100K.csv\u001b[m\u001b[m*\r\n",
      "\u001b[31mSpeedTest1M.csv\u001b[m\u001b[m*\r\n",
      "Tableau Homework 2.docx\r\n",
      "TrainingData.txt\r\n",
      "Untitled.ipynb\r\n",
      "\u001b[34mVirtualBox VMs\u001b[m\u001b[m/\r\n",
      "\u001b[34manaconda\u001b[m\u001b[m/\r\n",
      "classpath.txt\r\n",
      "dms_ak_docs.txt\r\n",
      "get-pip.py\r\n",
      "\u001b[34mh2oflows\u001b[m\u001b[m/\r\n",
      "hive-site.xml\r\n",
      "\u001b[34mlogs\u001b[m\u001b[m/\r\n",
      "mapred-site.xml\r\n",
      "\u001b[34mmysite\u001b[m\u001b[m/\r\n",
      "\u001b[34mnltk_data\u001b[m\u001b[m/\r\n",
      "proxies.sh\r\n",
      "\u001b[34mreactive-kafka-scala\u001b[m\u001b[m/\r\n",
      "settings.xml\r\n",
      "spark-env.sh\r\n",
      "\u001b[34mtest\u001b[m\u001b[m/\r\n",
      "text8.zip\r\n",
      "\u001b[34mtimeuuid_test\u001b[m\u001b[m/\r\n",
      "untitled.txt\r\n",
      "untitled1.txt\r\n",
      "wget-log\r\n",
      "\u001b[34mworkspace\u001b[m\u001b[m/\r\n"
     ]
    }
   ],
   "source": [
    "ls"
   ]
  },
  {
   "cell_type": "code",
   "execution_count": 10,
   "metadata": {
    "collapsed": true
   },
   "outputs": [],
   "source": [
    "from datetime import datetime"
   ]
  },
  {
   "cell_type": "code",
   "execution_count": null,
   "metadata": {
    "collapsed": true
   },
   "outputs": [],
   "source": []
  },
  {
   "cell_type": "code",
   "execution_count": null,
   "metadata": {
    "collapsed": true
   },
   "outputs": [],
   "source": []
  },
  {
   "cell_type": "code",
   "execution_count": null,
   "metadata": {
    "collapsed": true
   },
   "outputs": [],
   "source": []
  }
 ],
 "metadata": {
  "kernelspec": {
   "display_name": "Python 2",
   "language": "python",
   "name": "python2"
  },
  "language_info": {
   "codemirror_mode": {
    "name": "ipython",
    "version": 2
   },
   "file_extension": ".py",
   "mimetype": "text/x-python",
   "name": "python",
   "nbconvert_exporter": "python",
   "pygments_lexer": "ipython2",
   "version": "2.7.11"
  }
 },
 "nbformat": 4,
 "nbformat_minor": 0
}
