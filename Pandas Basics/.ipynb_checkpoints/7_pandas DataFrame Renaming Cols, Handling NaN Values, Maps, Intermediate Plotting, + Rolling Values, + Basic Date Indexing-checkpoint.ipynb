{
 "cells": [
  {
   "cell_type": "code",
   "execution_count": 1,
   "metadata": {
    "collapsed": false
   },
   "outputs": [
    {
     "name": "stdout",
     "output_type": "stream",
     "text": [
      "2.7.11 |Anaconda 2.2.0 (x86_64)| (default, Dec  6 2015, 18:57:58) \n",
      "[GCC 4.2.1 (Apple Inc. build 5577)]\n",
      "Pandas: 0.15.2\n"
     ]
    }
   ],
   "source": [
    "%matplotlib inline\n",
    "import sys\n",
    "import pandas as pd\n",
    "import numpy as np\n",
    "import matplotlib.pyplot as plt\n",
    "print sys.version\n",
    "print \"Pandas:\", pd.version.version"
   ]
  },
  {
   "cell_type": "code",
   "execution_count": 3,
   "metadata": {
    "collapsed": false
   },
   "outputs": [],
   "source": [
    "df = pd.read_csv('../data/date_fixed_running_data.csv')"
   ]
  },
  {
   "cell_type": "code",
   "execution_count": 4,
   "metadata": {
    "collapsed": false
   },
   "outputs": [
    {
     "data": {
      "text/html": [
       "<div style=\"max-height:1000px;max-width:1500px;overflow:auto;\">\n",
       "<table border=\"1\" class=\"dataframe\">\n",
       "  <thead>\n",
       "    <tr style=\"text-align: right;\">\n",
       "      <th></th>\n",
       "      <th>Unnamed: 0</th>\n",
       "      <th>Miles</th>\n",
       "      <th>Time</th>\n",
       "    </tr>\n",
       "  </thead>\n",
       "  <tbody>\n",
       "    <tr>\n",
       "      <th>0</th>\n",
       "      <td> 2014-08-01</td>\n",
       "      <td> 0.0</td>\n",
       "      <td> NaN</td>\n",
       "    </tr>\n",
       "    <tr>\n",
       "      <th>1</th>\n",
       "      <td> 2014-08-02</td>\n",
       "      <td> 1.7</td>\n",
       "      <td> NaN</td>\n",
       "    </tr>\n",
       "    <tr>\n",
       "      <th>2</th>\n",
       "      <td> 2014-08-03</td>\n",
       "      <td> 1.4</td>\n",
       "      <td> NaN</td>\n",
       "    </tr>\n",
       "    <tr>\n",
       "      <th>3</th>\n",
       "      <td> 2014-08-04</td>\n",
       "      <td> 2.1</td>\n",
       "      <td> NaN</td>\n",
       "    </tr>\n",
       "    <tr>\n",
       "      <th>4</th>\n",
       "      <td> 2014-08-05</td>\n",
       "      <td> 0.0</td>\n",
       "      <td> NaN</td>\n",
       "    </tr>\n",
       "  </tbody>\n",
       "</table>\n",
       "</div>"
      ],
      "text/plain": [
       "   Unnamed: 0  Miles Time\n",
       "0  2014-08-01    0.0  NaN\n",
       "1  2014-08-02    1.7  NaN\n",
       "2  2014-08-03    1.4  NaN\n",
       "3  2014-08-04    2.1  NaN\n",
       "4  2014-08-05    0.0  NaN"
      ]
     },
     "execution_count": 4,
     "metadata": {},
     "output_type": "execute_result"
    }
   ],
   "source": [
    "df.head()"
   ]
  },
  {
   "cell_type": "markdown",
   "metadata": {},
   "source": [
    "\n",
    "This is because when you save a data frame to a csv it doesn’t label the index column. So now our column is actually the ‘zero’ column. When you use parse_dates you can use either the column name (if available) or the 0-based column index number. This happened because the index didn’t have a name when we saved the last csv.\n"
   ]
  },
  {
   "cell_type": "code",
   "execution_count": 145,
   "metadata": {
    "collapsed": false
   },
   "outputs": [
    {
     "data": {
      "text/plain": [
       "0    2014-08-02\n",
       "1    2014-08-03\n",
       "2    2014-08-04\n",
       "3    2014-08-05\n",
       "4    2014-08-06\n",
       "Name: Unnamed: 0, dtype: object"
      ]
     },
     "execution_count": 145,
     "metadata": {},
     "output_type": "execute_result"
    }
   ],
   "source": [
    "df['Unnamed: 0'].head()"
   ]
  },
  {
   "cell_type": "code",
   "execution_count": 147,
   "metadata": {
    "collapsed": false
   },
   "outputs": [
    {
     "ename": "ValueError",
     "evalue": "'Date' is not in list",
     "output_type": "error",
     "traceback": [
      "\u001b[0;31m---------------------------------------------------------------------------\u001b[0m\n\u001b[0;31mValueError\u001b[0m                                Traceback (most recent call last)",
      "\u001b[0;32m<ipython-input-147-96dc61f0248c>\u001b[0m in \u001b[0;36m<module>\u001b[0;34m()\u001b[0m\n\u001b[0;32m----> 1\u001b[0;31m \u001b[0mdf\u001b[0m \u001b[0;34m=\u001b[0m \u001b[0mpd\u001b[0m\u001b[0;34m.\u001b[0m\u001b[0mread_csv\u001b[0m\u001b[0;34m(\u001b[0m\u001b[0;34m'../data/date_fixed_running_data.csv'\u001b[0m\u001b[0;34m,\u001b[0m \u001b[0mparse_dates\u001b[0m\u001b[0;34m=\u001b[0m\u001b[0;34m[\u001b[0m\u001b[0;34m'Date'\u001b[0m\u001b[0;34m]\u001b[0m\u001b[0;34m)\u001b[0m\u001b[0;34m\u001b[0m\u001b[0m\n\u001b[0m",
      "\u001b[0;32m/Library/Python/2.7/site-packages/pandas/io/parsers.pyc\u001b[0m in \u001b[0;36mparser_f\u001b[0;34m(filepath_or_buffer, sep, dialect, compression, doublequote, escapechar, quotechar, quoting, skipinitialspace, lineterminator, header, index_col, names, prefix, skiprows, skipfooter, skip_footer, na_values, na_fvalues, true_values, false_values, delimiter, converters, dtype, usecols, engine, delim_whitespace, as_recarray, na_filter, compact_ints, use_unsigned, low_memory, buffer_lines, warn_bad_lines, error_bad_lines, keep_default_na, thousands, comment, decimal, parse_dates, keep_date_col, dayfirst, date_parser, memory_map, float_precision, nrows, iterator, chunksize, verbose, encoding, squeeze, mangle_dupe_cols, tupleize_cols, infer_datetime_format, skip_blank_lines)\u001b[0m\n\u001b[1;32m    461\u001b[0m                     skip_blank_lines=skip_blank_lines)\n\u001b[1;32m    462\u001b[0m \u001b[0;34m\u001b[0m\u001b[0m\n\u001b[0;32m--> 463\u001b[0;31m         \u001b[0;32mreturn\u001b[0m \u001b[0m_read\u001b[0m\u001b[0;34m(\u001b[0m\u001b[0mfilepath_or_buffer\u001b[0m\u001b[0;34m,\u001b[0m \u001b[0mkwds\u001b[0m\u001b[0;34m)\u001b[0m\u001b[0;34m\u001b[0m\u001b[0m\n\u001b[0m\u001b[1;32m    464\u001b[0m \u001b[0;34m\u001b[0m\u001b[0m\n\u001b[1;32m    465\u001b[0m     \u001b[0mparser_f\u001b[0m\u001b[0;34m.\u001b[0m\u001b[0m__name__\u001b[0m \u001b[0;34m=\u001b[0m \u001b[0mname\u001b[0m\u001b[0;34m\u001b[0m\u001b[0m\n",
      "\u001b[0;32m/Library/Python/2.7/site-packages/pandas/io/parsers.pyc\u001b[0m in \u001b[0;36m_read\u001b[0;34m(filepath_or_buffer, kwds)\u001b[0m\n\u001b[1;32m    237\u001b[0m \u001b[0;34m\u001b[0m\u001b[0m\n\u001b[1;32m    238\u001b[0m     \u001b[0;31m# Create the parser.\u001b[0m\u001b[0;34m\u001b[0m\u001b[0;34m\u001b[0m\u001b[0m\n\u001b[0;32m--> 239\u001b[0;31m     \u001b[0mparser\u001b[0m \u001b[0;34m=\u001b[0m \u001b[0mTextFileReader\u001b[0m\u001b[0;34m(\u001b[0m\u001b[0mfilepath_or_buffer\u001b[0m\u001b[0;34m,\u001b[0m \u001b[0;34m**\u001b[0m\u001b[0mkwds\u001b[0m\u001b[0;34m)\u001b[0m\u001b[0;34m\u001b[0m\u001b[0m\n\u001b[0m\u001b[1;32m    240\u001b[0m \u001b[0;34m\u001b[0m\u001b[0m\n\u001b[1;32m    241\u001b[0m     \u001b[0;32mif\u001b[0m \u001b[0;34m(\u001b[0m\u001b[0mnrows\u001b[0m \u001b[0;32mis\u001b[0m \u001b[0;32mnot\u001b[0m \u001b[0mNone\u001b[0m\u001b[0;34m)\u001b[0m \u001b[0;32mand\u001b[0m \u001b[0;34m(\u001b[0m\u001b[0mchunksize\u001b[0m \u001b[0;32mis\u001b[0m \u001b[0;32mnot\u001b[0m \u001b[0mNone\u001b[0m\u001b[0;34m)\u001b[0m\u001b[0;34m:\u001b[0m\u001b[0;34m\u001b[0m\u001b[0m\n",
      "\u001b[0;32m/Library/Python/2.7/site-packages/pandas/io/parsers.pyc\u001b[0m in \u001b[0;36m__init__\u001b[0;34m(self, f, engine, **kwds)\u001b[0m\n\u001b[1;32m    551\u001b[0m             \u001b[0mself\u001b[0m\u001b[0;34m.\u001b[0m\u001b[0moptions\u001b[0m\u001b[0;34m[\u001b[0m\u001b[0;34m'has_index_names'\u001b[0m\u001b[0;34m]\u001b[0m \u001b[0;34m=\u001b[0m \u001b[0mkwds\u001b[0m\u001b[0;34m[\u001b[0m\u001b[0;34m'has_index_names'\u001b[0m\u001b[0;34m]\u001b[0m\u001b[0;34m\u001b[0m\u001b[0m\n\u001b[1;32m    552\u001b[0m \u001b[0;34m\u001b[0m\u001b[0m\n\u001b[0;32m--> 553\u001b[0;31m         \u001b[0mself\u001b[0m\u001b[0;34m.\u001b[0m\u001b[0m_make_engine\u001b[0m\u001b[0;34m(\u001b[0m\u001b[0mself\u001b[0m\u001b[0;34m.\u001b[0m\u001b[0mengine\u001b[0m\u001b[0;34m)\u001b[0m\u001b[0;34m\u001b[0m\u001b[0m\n\u001b[0m\u001b[1;32m    554\u001b[0m \u001b[0;34m\u001b[0m\u001b[0m\n\u001b[1;32m    555\u001b[0m     \u001b[0;32mdef\u001b[0m \u001b[0m_get_options_with_defaults\u001b[0m\u001b[0;34m(\u001b[0m\u001b[0mself\u001b[0m\u001b[0;34m,\u001b[0m \u001b[0mengine\u001b[0m\u001b[0;34m)\u001b[0m\u001b[0;34m:\u001b[0m\u001b[0;34m\u001b[0m\u001b[0m\n",
      "\u001b[0;32m/Library/Python/2.7/site-packages/pandas/io/parsers.pyc\u001b[0m in \u001b[0;36m_make_engine\u001b[0;34m(self, engine)\u001b[0m\n\u001b[1;32m    688\u001b[0m     \u001b[0;32mdef\u001b[0m \u001b[0m_make_engine\u001b[0m\u001b[0;34m(\u001b[0m\u001b[0mself\u001b[0m\u001b[0;34m,\u001b[0m \u001b[0mengine\u001b[0m\u001b[0;34m=\u001b[0m\u001b[0;34m'c'\u001b[0m\u001b[0;34m)\u001b[0m\u001b[0;34m:\u001b[0m\u001b[0;34m\u001b[0m\u001b[0m\n\u001b[1;32m    689\u001b[0m         \u001b[0;32mif\u001b[0m \u001b[0mengine\u001b[0m \u001b[0;34m==\u001b[0m \u001b[0;34m'c'\u001b[0m\u001b[0;34m:\u001b[0m\u001b[0;34m\u001b[0m\u001b[0m\n\u001b[0;32m--> 690\u001b[0;31m             \u001b[0mself\u001b[0m\u001b[0;34m.\u001b[0m\u001b[0m_engine\u001b[0m \u001b[0;34m=\u001b[0m \u001b[0mCParserWrapper\u001b[0m\u001b[0;34m(\u001b[0m\u001b[0mself\u001b[0m\u001b[0;34m.\u001b[0m\u001b[0mf\u001b[0m\u001b[0;34m,\u001b[0m \u001b[0;34m**\u001b[0m\u001b[0mself\u001b[0m\u001b[0;34m.\u001b[0m\u001b[0moptions\u001b[0m\u001b[0;34m)\u001b[0m\u001b[0;34m\u001b[0m\u001b[0m\n\u001b[0m\u001b[1;32m    691\u001b[0m         \u001b[0;32melse\u001b[0m\u001b[0;34m:\u001b[0m\u001b[0;34m\u001b[0m\u001b[0m\n\u001b[1;32m    692\u001b[0m             \u001b[0;32mif\u001b[0m \u001b[0mengine\u001b[0m \u001b[0;34m==\u001b[0m \u001b[0;34m'python'\u001b[0m\u001b[0;34m:\u001b[0m\u001b[0;34m\u001b[0m\u001b[0m\n",
      "\u001b[0;32m/Library/Python/2.7/site-packages/pandas/io/parsers.pyc\u001b[0m in \u001b[0;36m__init__\u001b[0;34m(self, src, **kwds)\u001b[0m\n\u001b[1;32m   1093\u001b[0m                 \u001b[0;32mraise\u001b[0m \u001b[0mValueError\u001b[0m\u001b[0;34m(\u001b[0m\u001b[0;34m\"Usecols do not match names.\"\u001b[0m\u001b[0;34m)\u001b[0m\u001b[0;34m\u001b[0m\u001b[0m\n\u001b[1;32m   1094\u001b[0m \u001b[0;34m\u001b[0m\u001b[0m\n\u001b[0;32m-> 1095\u001b[0;31m         \u001b[0mself\u001b[0m\u001b[0;34m.\u001b[0m\u001b[0m_set_noconvert_columns\u001b[0m\u001b[0;34m(\u001b[0m\u001b[0;34m)\u001b[0m\u001b[0;34m\u001b[0m\u001b[0m\n\u001b[0m\u001b[1;32m   1096\u001b[0m \u001b[0;34m\u001b[0m\u001b[0m\n\u001b[1;32m   1097\u001b[0m         \u001b[0mself\u001b[0m\u001b[0;34m.\u001b[0m\u001b[0morig_names\u001b[0m \u001b[0;34m=\u001b[0m \u001b[0mself\u001b[0m\u001b[0;34m.\u001b[0m\u001b[0mnames\u001b[0m\u001b[0;34m\u001b[0m\u001b[0m\n",
      "\u001b[0;32m/Library/Python/2.7/site-packages/pandas/io/parsers.pyc\u001b[0m in \u001b[0;36m_set_noconvert_columns\u001b[0;34m(self)\u001b[0m\n\u001b[1;32m   1129\u001b[0m                         \u001b[0m_set\u001b[0m\u001b[0;34m(\u001b[0m\u001b[0mk\u001b[0m\u001b[0;34m)\u001b[0m\u001b[0;34m\u001b[0m\u001b[0m\n\u001b[1;32m   1130\u001b[0m                 \u001b[0;32melse\u001b[0m\u001b[0;34m:\u001b[0m\u001b[0;34m\u001b[0m\u001b[0m\n\u001b[0;32m-> 1131\u001b[0;31m                     \u001b[0m_set\u001b[0m\u001b[0;34m(\u001b[0m\u001b[0mval\u001b[0m\u001b[0;34m)\u001b[0m\u001b[0;34m\u001b[0m\u001b[0m\n\u001b[0m\u001b[1;32m   1132\u001b[0m \u001b[0;34m\u001b[0m\u001b[0m\n\u001b[1;32m   1133\u001b[0m         \u001b[0;32melif\u001b[0m \u001b[0misinstance\u001b[0m\u001b[0;34m(\u001b[0m\u001b[0mself\u001b[0m\u001b[0;34m.\u001b[0m\u001b[0mparse_dates\u001b[0m\u001b[0;34m,\u001b[0m \u001b[0mdict\u001b[0m\u001b[0;34m)\u001b[0m\u001b[0;34m:\u001b[0m\u001b[0;34m\u001b[0m\u001b[0m\n",
      "\u001b[0;32m/Library/Python/2.7/site-packages/pandas/io/parsers.pyc\u001b[0m in \u001b[0;36m_set\u001b[0;34m(x)\u001b[0m\n\u001b[1;32m   1121\u001b[0m                 \u001b[0mself\u001b[0m\u001b[0;34m.\u001b[0m\u001b[0m_reader\u001b[0m\u001b[0;34m.\u001b[0m\u001b[0mset_noconvert\u001b[0m\u001b[0;34m(\u001b[0m\u001b[0mx\u001b[0m\u001b[0;34m)\u001b[0m\u001b[0;34m\u001b[0m\u001b[0m\n\u001b[1;32m   1122\u001b[0m             \u001b[0;32melse\u001b[0m\u001b[0;34m:\u001b[0m\u001b[0;34m\u001b[0m\u001b[0m\n\u001b[0;32m-> 1123\u001b[0;31m                 \u001b[0mself\u001b[0m\u001b[0;34m.\u001b[0m\u001b[0m_reader\u001b[0m\u001b[0;34m.\u001b[0m\u001b[0mset_noconvert\u001b[0m\u001b[0;34m(\u001b[0m\u001b[0mnames\u001b[0m\u001b[0;34m.\u001b[0m\u001b[0mindex\u001b[0m\u001b[0;34m(\u001b[0m\u001b[0mx\u001b[0m\u001b[0;34m)\u001b[0m\u001b[0;34m)\u001b[0m\u001b[0;34m\u001b[0m\u001b[0m\n\u001b[0m\u001b[1;32m   1124\u001b[0m \u001b[0;34m\u001b[0m\u001b[0m\n\u001b[1;32m   1125\u001b[0m         \u001b[0;32mif\u001b[0m \u001b[0misinstance\u001b[0m\u001b[0;34m(\u001b[0m\u001b[0mself\u001b[0m\u001b[0;34m.\u001b[0m\u001b[0mparse_dates\u001b[0m\u001b[0;34m,\u001b[0m \u001b[0mlist\u001b[0m\u001b[0;34m)\u001b[0m\u001b[0;34m:\u001b[0m\u001b[0;34m\u001b[0m\u001b[0m\n",
      "\u001b[0;31mValueError\u001b[0m: 'Date' is not in list"
     ]
    }
   ],
   "source": [
    "df = pd.read_csv('../data/date_fixed_running_data.csv', parse_dates=['Date'])"
   ]
  },
  {
   "cell_type": "markdown",
   "metadata": {},
   "source": [
    "We can import the date correctly by specifying the zero based look up or by specifying the name like we did in the last video."
   ]
  },
  {
   "cell_type": "code",
   "execution_count": 226,
   "metadata": {
    "collapsed": false
   },
   "outputs": [],
   "source": [
    "df = pd.read_csv('../data/date_fixed_running_data.csv', parse_dates=[0])"
   ]
  },
  {
   "cell_type": "code",
   "execution_count": 227,
   "metadata": {
    "collapsed": false
   },
   "outputs": [
    {
     "data": {
      "text/html": [
       "<div style=\"max-height:1000px;max-width:1500px;overflow:auto;\">\n",
       "<table border=\"1\" class=\"dataframe\">\n",
       "  <thead>\n",
       "    <tr style=\"text-align: right;\">\n",
       "      <th></th>\n",
       "      <th>Unnamed: 0</th>\n",
       "      <th>Miles</th>\n",
       "      <th>Time</th>\n",
       "    </tr>\n",
       "  </thead>\n",
       "  <tbody>\n",
       "    <tr>\n",
       "      <th>0</th>\n",
       "      <td>2014-08-02</td>\n",
       "      <td> 1.70</td>\n",
       "      <td> NaN</td>\n",
       "    </tr>\n",
       "    <tr>\n",
       "      <th>1</th>\n",
       "      <td>2014-08-03</td>\n",
       "      <td> 1.40</td>\n",
       "      <td> NaN</td>\n",
       "    </tr>\n",
       "    <tr>\n",
       "      <th>2</th>\n",
       "      <td>2014-08-04</td>\n",
       "      <td> 2.10</td>\n",
       "      <td> NaN</td>\n",
       "    </tr>\n",
       "    <tr>\n",
       "      <th>3</th>\n",
       "      <td>2014-08-05</td>\n",
       "      <td> 0.00</td>\n",
       "      <td> NaN</td>\n",
       "    </tr>\n",
       "    <tr>\n",
       "      <th>4</th>\n",
       "      <td>2014-08-06</td>\n",
       "      <td> 2.38</td>\n",
       "      <td> NaN</td>\n",
       "    </tr>\n",
       "  </tbody>\n",
       "</table>\n",
       "</div>"
      ],
      "text/plain": [
       "  Unnamed: 0  Miles Time\n",
       "0 2014-08-02   1.70  NaN\n",
       "1 2014-08-03   1.40  NaN\n",
       "2 2014-08-04   2.10  NaN\n",
       "3 2014-08-05   0.00  NaN\n",
       "4 2014-08-06   2.38  NaN"
      ]
     },
     "execution_count": 227,
     "metadata": {},
     "output_type": "execute_result"
    }
   ],
   "source": [
    "df.head()"
   ]
  },
  {
   "cell_type": "markdown",
   "metadata": {},
   "source": [
    "\n",
    "Let’s go ahead and rename the columns and set our index to the dates again. \n"
   ]
  },
  {
   "cell_type": "code",
   "execution_count": 228,
   "metadata": {
    "collapsed": false
   },
   "outputs": [
    {
     "data": {
      "text/html": [
       "<div style=\"max-height:1000px;max-width:1500px;overflow:auto;\">\n",
       "<table border=\"1\" class=\"dataframe\">\n",
       "  <thead>\n",
       "    <tr style=\"text-align: right;\">\n",
       "      <th></th>\n",
       "      <th>Date</th>\n",
       "      <th>Miles</th>\n",
       "      <th>Time</th>\n",
       "    </tr>\n",
       "  </thead>\n",
       "  <tbody>\n",
       "    <tr>\n",
       "      <th>0</th>\n",
       "      <td>2014-08-02</td>\n",
       "      <td> 1.70</td>\n",
       "      <td> NaN</td>\n",
       "    </tr>\n",
       "    <tr>\n",
       "      <th>1</th>\n",
       "      <td>2014-08-03</td>\n",
       "      <td> 1.40</td>\n",
       "      <td> NaN</td>\n",
       "    </tr>\n",
       "    <tr>\n",
       "      <th>2</th>\n",
       "      <td>2014-08-04</td>\n",
       "      <td> 2.10</td>\n",
       "      <td> NaN</td>\n",
       "    </tr>\n",
       "    <tr>\n",
       "      <th>3</th>\n",
       "      <td>2014-08-05</td>\n",
       "      <td> 0.00</td>\n",
       "      <td> NaN</td>\n",
       "    </tr>\n",
       "    <tr>\n",
       "      <th>4</th>\n",
       "      <td>2014-08-06</td>\n",
       "      <td> 2.38</td>\n",
       "      <td> NaN</td>\n",
       "    </tr>\n",
       "  </tbody>\n",
       "</table>\n",
       "</div>"
      ],
      "text/plain": [
       "        Date  Miles Time\n",
       "0 2014-08-02   1.70  NaN\n",
       "1 2014-08-03   1.40  NaN\n",
       "2 2014-08-04   2.10  NaN\n",
       "3 2014-08-05   0.00  NaN\n",
       "4 2014-08-06   2.38  NaN"
      ]
     },
     "execution_count": 228,
     "metadata": {},
     "output_type": "execute_result"
    }
   ],
   "source": [
    "cols = ['Date', 'Miles', 'Time']\n",
    "df.columns = cols\n",
    "df.head()"
   ]
  },
  {
   "cell_type": "markdown",
   "metadata": {},
   "source": [
    "We can also rename the column using the rename method."
   ]
  },
  {
   "cell_type": "code",
   "execution_count": 229,
   "metadata": {
    "collapsed": false
   },
   "outputs": [],
   "source": [
    "df.rename(columns={df.columns[0]:'Date'}, inplace=True)"
   ]
  },
  {
   "cell_type": "code",
   "execution_count": 230,
   "metadata": {
    "collapsed": false
   },
   "outputs": [
    {
     "data": {
      "text/html": [
       "<div style=\"max-height:1000px;max-width:1500px;overflow:auto;\">\n",
       "<table border=\"1\" class=\"dataframe\">\n",
       "  <thead>\n",
       "    <tr style=\"text-align: right;\">\n",
       "      <th></th>\n",
       "      <th>Date</th>\n",
       "      <th>Miles</th>\n",
       "      <th>Time</th>\n",
       "    </tr>\n",
       "  </thead>\n",
       "  <tbody>\n",
       "    <tr>\n",
       "      <th>0</th>\n",
       "      <td>2014-08-02</td>\n",
       "      <td> 1.70</td>\n",
       "      <td> NaN</td>\n",
       "    </tr>\n",
       "    <tr>\n",
       "      <th>1</th>\n",
       "      <td>2014-08-03</td>\n",
       "      <td> 1.40</td>\n",
       "      <td> NaN</td>\n",
       "    </tr>\n",
       "    <tr>\n",
       "      <th>2</th>\n",
       "      <td>2014-08-04</td>\n",
       "      <td> 2.10</td>\n",
       "      <td> NaN</td>\n",
       "    </tr>\n",
       "    <tr>\n",
       "      <th>3</th>\n",
       "      <td>2014-08-05</td>\n",
       "      <td> 0.00</td>\n",
       "      <td> NaN</td>\n",
       "    </tr>\n",
       "    <tr>\n",
       "      <th>4</th>\n",
       "      <td>2014-08-06</td>\n",
       "      <td> 2.38</td>\n",
       "      <td> NaN</td>\n",
       "    </tr>\n",
       "  </tbody>\n",
       "</table>\n",
       "</div>"
      ],
      "text/plain": [
       "        Date  Miles Time\n",
       "0 2014-08-02   1.70  NaN\n",
       "1 2014-08-03   1.40  NaN\n",
       "2 2014-08-04   2.10  NaN\n",
       "3 2014-08-05   0.00  NaN\n",
       "4 2014-08-06   2.38  NaN"
      ]
     },
     "execution_count": 230,
     "metadata": {},
     "output_type": "execute_result"
    }
   ],
   "source": [
    "df.head()"
   ]
  },
  {
   "cell_type": "markdown",
   "metadata": {},
   "source": [
    "Now we can plot it again once we set the index.\n"
   ]
  },
  {
   "cell_type": "code",
   "execution_count": 231,
   "metadata": {
    "collapsed": false
   },
   "outputs": [],
   "source": [
    "df.set_index('Date', inplace=True)"
   ]
  },
  {
   "cell_type": "code",
   "execution_count": 232,
   "metadata": {
    "collapsed": false
   },
   "outputs": [
    {
     "data": {
      "text/plain": [
       "<matplotlib.axes.AxesSubplot at 0x117487c90>"
      ]
     },
     "execution_count": 232,
     "metadata": {},
     "output_type": "execute_result"
    },
    {
     "data": {
      "image/png": "[encoded data removed]",
      "text/plain": [
       "<matplotlib.figure.Figure at 0x11745fd50>"
      ]
     },
     "metadata": {},
     "output_type": "display_data"
    }
   ],
   "source": [
    "df.plot()"
   ]
  },
  {
   "cell_type": "markdown",
   "metadata": {},
   "source": [
    "Now one thing we’re going to want to do is get a breakdown of times for each run. Stats like minutes per mile and that sort of thing.\n",
    "\n",
    "To do that we’re going to use map. In order to convert to seconds we’re going to need to convert our times represented as hour/min/seconds into just pure seconds. From that we can do minutes etc.\n"
   ]
  },
  {
   "cell_type": "markdown",
   "metadata": {},
   "source": [
    "\n",
    "Let’s go ahead and write our map function. Now there is an edge case that we need to handle. Remember we don’t have time data for every single run so we’ve got to handle the NaN values correctly. \n",
    "\n",
    "we'll do this by just keeping them in there.\n"
   ]
  },
  {
   "cell_type": "code",
   "execution_count": 233,
   "metadata": {
    "collapsed": false
   },
   "outputs": [
    {
     "name": "stdout",
     "output_type": "stream",
     "text": [
      "nan\n"
     ]
    }
   ],
   "source": [
    "raw_time_fmt = df.Time[0]\n",
    "\n",
    "def get_total_seconds(raw_time):\n",
    "    if raw_time is np.nan:\n",
    "        return np.nan # if it's blank, keep it blank\n",
    "    hrs, mins, seconds = str(raw_time).split(':')\n",
    "    seconds = int(seconds) + 60 * int(mins) + 60 * 60 * int(hrs)\n",
    "    return seconds    \n",
    "print get_total_seconds(raw_time_fmt)"
   ]
  },
  {
   "cell_type": "code",
   "execution_count": 234,
   "metadata": {
    "collapsed": false
   },
   "outputs": [],
   "source": [
    "df['Seconds'] = df.Time.map(get_total_seconds)"
   ]
  },
  {
   "cell_type": "code",
   "execution_count": 235,
   "metadata": {
    "collapsed": false
   },
   "outputs": [
    {
     "data": {
      "text/html": [
       "<div style=\"max-height:1000px;max-width:1500px;overflow:auto;\">\n",
       "<table border=\"1\" class=\"dataframe\">\n",
       "  <thead>\n",
       "    <tr style=\"text-align: right;\">\n",
       "      <th></th>\n",
       "      <th>Miles</th>\n",
       "      <th>Time</th>\n",
       "      <th>Seconds</th>\n",
       "    </tr>\n",
       "    <tr>\n",
       "      <th>Date</th>\n",
       "      <th></th>\n",
       "      <th></th>\n",
       "      <th></th>\n",
       "    </tr>\n",
       "  </thead>\n",
       "  <tbody>\n",
       "    <tr>\n",
       "      <th>2014-08-02</th>\n",
       "      <td> 1.70</td>\n",
       "      <td>     NaN</td>\n",
       "      <td>  NaN</td>\n",
       "    </tr>\n",
       "    <tr>\n",
       "      <th>2014-08-03</th>\n",
       "      <td> 1.40</td>\n",
       "      <td>     NaN</td>\n",
       "      <td>  NaN</td>\n",
       "    </tr>\n",
       "    <tr>\n",
       "      <th>2014-08-04</th>\n",
       "      <td> 2.10</td>\n",
       "      <td>     NaN</td>\n",
       "      <td>  NaN</td>\n",
       "    </tr>\n",
       "    <tr>\n",
       "      <th>2014-08-05</th>\n",
       "      <td> 0.00</td>\n",
       "      <td>     NaN</td>\n",
       "      <td>  NaN</td>\n",
       "    </tr>\n",
       "    <tr>\n",
       "      <th>2014-08-06</th>\n",
       "      <td> 2.38</td>\n",
       "      <td>     NaN</td>\n",
       "      <td>  NaN</td>\n",
       "    </tr>\n",
       "    <tr>\n",
       "      <th>2014-08-07</th>\n",
       "      <td> 2.30</td>\n",
       "      <td>     NaN</td>\n",
       "      <td>  NaN</td>\n",
       "    </tr>\n",
       "    <tr>\n",
       "      <th>2014-08-08</th>\n",
       "      <td> 3.40</td>\n",
       "      <td>     NaN</td>\n",
       "      <td>  NaN</td>\n",
       "    </tr>\n",
       "    <tr>\n",
       "      <th>2014-08-09</th>\n",
       "      <td> 2.50</td>\n",
       "      <td>     NaN</td>\n",
       "      <td>  NaN</td>\n",
       "    </tr>\n",
       "    <tr>\n",
       "      <th>2014-08-10</th>\n",
       "      <td> 3.36</td>\n",
       "      <td> 0:28:37</td>\n",
       "      <td> 1717</td>\n",
       "    </tr>\n",
       "    <tr>\n",
       "      <th>2014-08-11</th>\n",
       "      <td> 1.67</td>\n",
       "      <td> 0:13:07</td>\n",
       "      <td>  787</td>\n",
       "    </tr>\n",
       "  </tbody>\n",
       "</table>\n",
       "</div>"
      ],
      "text/plain": [
       "            Miles     Time  Seconds\n",
       "Date                               \n",
       "2014-08-02   1.70      NaN      NaN\n",
       "2014-08-03   1.40      NaN      NaN\n",
       "2014-08-04   2.10      NaN      NaN\n",
       "2014-08-05   0.00      NaN      NaN\n",
       "2014-08-06   2.38      NaN      NaN\n",
       "2014-08-07   2.30      NaN      NaN\n",
       "2014-08-08   3.40      NaN      NaN\n",
       "2014-08-09   2.50      NaN      NaN\n",
       "2014-08-10   3.36  0:28:37     1717\n",
       "2014-08-11   1.67  0:13:07      787"
      ]
     },
     "execution_count": 235,
     "metadata": {},
     "output_type": "execute_result"
    }
   ],
   "source": [
    "df.head(10)"
   ]
  },
  {
   "cell_type": "markdown",
   "metadata": {},
   "source": [
    "Now we can describe and see I recorded times for 52 of the runs. "
   ]
  },
  {
   "cell_type": "code",
   "execution_count": 236,
   "metadata": {
    "collapsed": false
   },
   "outputs": [
    {
     "data": {
      "text/html": [
       "<div style=\"max-height:1000px;max-width:1500px;overflow:auto;\">\n",
       "<table border=\"1\" class=\"dataframe\">\n",
       "  <thead>\n",
       "    <tr style=\"text-align: right;\">\n",
       "      <th></th>\n",
       "      <th>Miles</th>\n",
       "      <th>Seconds</th>\n",
       "    </tr>\n",
       "  </thead>\n",
       "  <tbody>\n",
       "    <tr>\n",
       "      <th>count</th>\n",
       "      <td> 166.000000</td>\n",
       "      <td>    52.000000</td>\n",
       "    </tr>\n",
       "    <tr>\n",
       "      <th>mean</th>\n",
       "      <td>   1.530964</td>\n",
       "      <td>  1901.788462</td>\n",
       "    </tr>\n",
       "    <tr>\n",
       "      <th>std</th>\n",
       "      <td>   2.979802</td>\n",
       "      <td>  2560.424171</td>\n",
       "    </tr>\n",
       "    <tr>\n",
       "      <th>min</th>\n",
       "      <td>   0.000000</td>\n",
       "      <td>   376.000000</td>\n",
       "    </tr>\n",
       "    <tr>\n",
       "      <th>25%</th>\n",
       "      <td>   0.000000</td>\n",
       "      <td>   583.750000</td>\n",
       "    </tr>\n",
       "    <tr>\n",
       "      <th>50%</th>\n",
       "      <td>   0.000000</td>\n",
       "      <td>  1343.500000</td>\n",
       "    </tr>\n",
       "    <tr>\n",
       "      <th>75%</th>\n",
       "      <td>   2.007500</td>\n",
       "      <td>  1743.250000</td>\n",
       "    </tr>\n",
       "    <tr>\n",
       "      <th>max</th>\n",
       "      <td>  26.200000</td>\n",
       "      <td> 15643.000000</td>\n",
       "    </tr>\n",
       "  </tbody>\n",
       "</table>\n",
       "</div>"
      ],
      "text/plain": [
       "            Miles       Seconds\n",
       "count  166.000000     52.000000\n",
       "mean     1.530964   1901.788462\n",
       "std      2.979802   2560.424171\n",
       "min      0.000000    376.000000\n",
       "25%      0.000000    583.750000\n",
       "50%      0.000000   1343.500000\n",
       "75%      2.007500   1743.250000\n",
       "max     26.200000  15643.000000"
      ]
     },
     "execution_count": 236,
     "metadata": {},
     "output_type": "execute_result"
    }
   ],
   "source": [
    "df.describe()"
   ]
  },
  {
   "cell_type": "markdown",
   "metadata": {},
   "source": [
    "This is a great example of what  np.NaN is so great in pandas. When we do this describe we get answers unlike in numpy and it just disregards the empty values. If we were to fill it in with zeros that would drag down our statistics.\n",
    "\n",
    "We can see that here. See how much it changes the data when it is filled with 0 which would be incorrect analysis."
   ]
  },
  {
   "cell_type": "code",
   "execution_count": 237,
   "metadata": {
    "collapsed": false
   },
   "outputs": [
    {
     "data": {
      "text/html": [
       "<div style=\"max-height:1000px;max-width:1500px;overflow:auto;\">\n",
       "<table border=\"1\" class=\"dataframe\">\n",
       "  <thead>\n",
       "    <tr style=\"text-align: right;\">\n",
       "      <th></th>\n",
       "      <th>Miles</th>\n",
       "      <th>Seconds</th>\n",
       "    </tr>\n",
       "  </thead>\n",
       "  <tbody>\n",
       "    <tr>\n",
       "      <th>count</th>\n",
       "      <td> 166.000000</td>\n",
       "      <td>   166.000000</td>\n",
       "    </tr>\n",
       "    <tr>\n",
       "      <th>mean</th>\n",
       "      <td>   1.530964</td>\n",
       "      <td>   595.740964</td>\n",
       "    </tr>\n",
       "    <tr>\n",
       "      <th>std</th>\n",
       "      <td>   2.979802</td>\n",
       "      <td>  1676.040290</td>\n",
       "    </tr>\n",
       "    <tr>\n",
       "      <th>min</th>\n",
       "      <td>   0.000000</td>\n",
       "      <td>     0.000000</td>\n",
       "    </tr>\n",
       "    <tr>\n",
       "      <th>25%</th>\n",
       "      <td>   0.000000</td>\n",
       "      <td>     0.000000</td>\n",
       "    </tr>\n",
       "    <tr>\n",
       "      <th>50%</th>\n",
       "      <td>   0.000000</td>\n",
       "      <td>     0.000000</td>\n",
       "    </tr>\n",
       "    <tr>\n",
       "      <th>75%</th>\n",
       "      <td>   2.007500</td>\n",
       "      <td>   561.750000</td>\n",
       "    </tr>\n",
       "    <tr>\n",
       "      <th>max</th>\n",
       "      <td>  26.200000</td>\n",
       "      <td> 15643.000000</td>\n",
       "    </tr>\n",
       "  </tbody>\n",
       "</table>\n",
       "</div>"
      ],
      "text/plain": [
       "            Miles       Seconds\n",
       "count  166.000000    166.000000\n",
       "mean     1.530964    595.740964\n",
       "std      2.979802   1676.040290\n",
       "min      0.000000      0.000000\n",
       "25%      0.000000      0.000000\n",
       "50%      0.000000      0.000000\n",
       "75%      2.007500    561.750000\n",
       "max     26.200000  15643.000000"
      ]
     },
     "execution_count": 237,
     "metadata": {},
     "output_type": "execute_result"
    }
   ],
   "source": [
    "df.fillna(0).describe()"
   ]
  },
  {
   "cell_type": "markdown",
   "metadata": {},
   "source": [
    "Now that we have seconds it would be useful to see minutes too. I find it hard to think in seconds."
   ]
  },
  {
   "cell_type": "markdown",
   "metadata": {},
   "source": [
    "So let’s add a new column. "
   ]
  },
  {
   "cell_type": "code",
   "execution_count": 238,
   "metadata": {
    "collapsed": false
   },
   "outputs": [],
   "source": [
    "df['Minutes'] = df['Seconds'].map(lambda x: x / 60)"
   ]
  },
  {
   "cell_type": "code",
   "execution_count": 239,
   "metadata": {
    "collapsed": false
   },
   "outputs": [
    {
     "data": {
      "text/html": [
       "<div style=\"max-height:1000px;max-width:1500px;overflow:auto;\">\n",
       "<table border=\"1\" class=\"dataframe\">\n",
       "  <thead>\n",
       "    <tr style=\"text-align: right;\">\n",
       "      <th></th>\n",
       "      <th>Miles</th>\n",
       "      <th>Seconds</th>\n",
       "      <th>Minutes</th>\n",
       "    </tr>\n",
       "  </thead>\n",
       "  <tbody>\n",
       "    <tr>\n",
       "      <th>count</th>\n",
       "      <td> 166.000000</td>\n",
       "      <td>    52.000000</td>\n",
       "      <td>  52.000000</td>\n",
       "    </tr>\n",
       "    <tr>\n",
       "      <th>mean</th>\n",
       "      <td>   1.530964</td>\n",
       "      <td>  1901.788462</td>\n",
       "      <td>  31.696474</td>\n",
       "    </tr>\n",
       "    <tr>\n",
       "      <th>std</th>\n",
       "      <td>   2.979802</td>\n",
       "      <td>  2560.424171</td>\n",
       "      <td>  42.673736</td>\n",
       "    </tr>\n",
       "    <tr>\n",
       "      <th>min</th>\n",
       "      <td>   0.000000</td>\n",
       "      <td>   376.000000</td>\n",
       "      <td>   6.266667</td>\n",
       "    </tr>\n",
       "    <tr>\n",
       "      <th>25%</th>\n",
       "      <td>   0.000000</td>\n",
       "      <td>   583.750000</td>\n",
       "      <td>   9.729167</td>\n",
       "    </tr>\n",
       "    <tr>\n",
       "      <th>50%</th>\n",
       "      <td>   0.000000</td>\n",
       "      <td>  1343.500000</td>\n",
       "      <td>  22.391667</td>\n",
       "    </tr>\n",
       "    <tr>\n",
       "      <th>75%</th>\n",
       "      <td>   2.007500</td>\n",
       "      <td>  1743.250000</td>\n",
       "      <td>  29.054167</td>\n",
       "    </tr>\n",
       "    <tr>\n",
       "      <th>max</th>\n",
       "      <td>  26.200000</td>\n",
       "      <td> 15643.000000</td>\n",
       "      <td> 260.716667</td>\n",
       "    </tr>\n",
       "  </tbody>\n",
       "</table>\n",
       "</div>"
      ],
      "text/plain": [
       "            Miles       Seconds     Minutes\n",
       "count  166.000000     52.000000   52.000000\n",
       "mean     1.530964   1901.788462   31.696474\n",
       "std      2.979802   2560.424171   42.673736\n",
       "min      0.000000    376.000000    6.266667\n",
       "25%      0.000000    583.750000    9.729167\n",
       "50%      0.000000   1343.500000   22.391667\n",
       "75%      2.007500   1743.250000   29.054167\n",
       "max     26.200000  15643.000000  260.716667"
      ]
     },
     "execution_count": 239,
     "metadata": {},
     "output_type": "execute_result"
    }
   ],
   "source": [
    "df.describe()"
   ]
  },
  {
   "cell_type": "markdown",
   "metadata": {},
   "source": [
    "\n",
    "Now let’s do a describe and plot it again.\n"
   ]
  },
  {
   "cell_type": "code",
   "execution_count": 240,
   "metadata": {
    "collapsed": false
   },
   "outputs": [
    {
     "data": {
      "text/plain": [
       "<matplotlib.axes.AxesSubplot at 0x1175c1d10>"
      ]
     },
     "execution_count": 240,
     "metadata": {},
     "output_type": "execute_result"
    },
    {
     "data": {
      "image/png": "[encoded data removed]",
      "text/plain": [
       "<matplotlib.figure.Figure at 0x1174ffe10>"
      ]
     },
     "metadata": {},
     "output_type": "display_data"
    }
   ],
   "source": [
    "df.plot(x='Miles', y='Minutes', kind='scatter')"
   ]
  },
  {
   "cell_type": "markdown",
   "metadata": {},
   "source": [
    "\n",
    "Let’s plot Miles and Minutes together in a scatter plot. Wow that’s linear. Let’s see how correlated they are. We do this with the cor method. We can see that Miles to time are very tightly correlated (using pearson standard correlation coefficients) there are two other correlation methods that you can use, kendall Tau, and Spearman rank correlation.\n"
   ]
  },
  {
   "cell_type": "code",
   "execution_count": 241,
   "metadata": {
    "collapsed": false
   },
   "outputs": [
    {
     "data": {
      "text/html": [
       "<div style=\"max-height:1000px;max-width:1500px;overflow:auto;\">\n",
       "<table border=\"1\" class=\"dataframe\">\n",
       "  <thead>\n",
       "    <tr style=\"text-align: right;\">\n",
       "      <th></th>\n",
       "      <th>Miles</th>\n",
       "      <th>Seconds</th>\n",
       "      <th>Minutes</th>\n",
       "    </tr>\n",
       "  </thead>\n",
       "  <tbody>\n",
       "    <tr>\n",
       "      <th>Miles</th>\n",
       "      <td> 1.000000</td>\n",
       "      <td> 0.997203</td>\n",
       "      <td> 0.997203</td>\n",
       "    </tr>\n",
       "    <tr>\n",
       "      <th>Seconds</th>\n",
       "      <td> 0.997203</td>\n",
       "      <td> 1.000000</td>\n",
       "      <td> 1.000000</td>\n",
       "    </tr>\n",
       "    <tr>\n",
       "      <th>Minutes</th>\n",
       "      <td> 0.997203</td>\n",
       "      <td> 1.000000</td>\n",
       "      <td> 1.000000</td>\n",
       "    </tr>\n",
       "  </tbody>\n",
       "</table>\n",
       "</div>"
      ],
      "text/plain": [
       "            Miles   Seconds   Minutes\n",
       "Miles    1.000000  0.997203  0.997203\n",
       "Seconds  0.997203  1.000000  1.000000\n",
       "Minutes  0.997203  1.000000  1.000000"
      ]
     },
     "execution_count": 241,
     "metadata": {},
     "output_type": "execute_result"
    }
   ],
   "source": [
    "df.corr()"
   ]
  },
  {
   "cell_type": "code",
   "execution_count": 242,
   "metadata": {
    "collapsed": false
   },
   "outputs": [
    {
     "data": {
      "text/html": [
       "<div style=\"max-height:1000px;max-width:1500px;overflow:auto;\">\n",
       "<table border=\"1\" class=\"dataframe\">\n",
       "  <thead>\n",
       "    <tr style=\"text-align: right;\">\n",
       "      <th></th>\n",
       "      <th>Miles</th>\n",
       "      <th>Seconds</th>\n",
       "      <th>Minutes</th>\n",
       "    </tr>\n",
       "  </thead>\n",
       "  <tbody>\n",
       "    <tr>\n",
       "      <th>Miles</th>\n",
       "      <td> 1.00000</td>\n",
       "      <td> 0.88305</td>\n",
       "      <td> 0.88305</td>\n",
       "    </tr>\n",
       "    <tr>\n",
       "      <th>Seconds</th>\n",
       "      <td> 0.88305</td>\n",
       "      <td> 1.00000</td>\n",
       "      <td> 1.00000</td>\n",
       "    </tr>\n",
       "    <tr>\n",
       "      <th>Minutes</th>\n",
       "      <td> 0.88305</td>\n",
       "      <td> 1.00000</td>\n",
       "      <td> 1.00000</td>\n",
       "    </tr>\n",
       "  </tbody>\n",
       "</table>\n",
       "</div>"
      ],
      "text/plain": [
       "           Miles  Seconds  Minutes\n",
       "Miles    1.00000  0.88305  0.88305\n",
       "Seconds  0.88305  1.00000  1.00000\n",
       "Minutes  0.88305  1.00000  1.00000"
      ]
     },
     "execution_count": 242,
     "metadata": {},
     "output_type": "execute_result"
    }
   ],
   "source": [
    "df.corr(method='kendall')"
   ]
  },
  {
   "cell_type": "code",
   "execution_count": 243,
   "metadata": {
    "collapsed": false
   },
   "outputs": [
    {
     "data": {
      "text/html": [
       "<div style=\"max-height:1000px;max-width:1500px;overflow:auto;\">\n",
       "<table border=\"1\" class=\"dataframe\">\n",
       "  <thead>\n",
       "    <tr style=\"text-align: right;\">\n",
       "      <th></th>\n",
       "      <th>Miles</th>\n",
       "      <th>Seconds</th>\n",
       "      <th>Minutes</th>\n",
       "    </tr>\n",
       "  </thead>\n",
       "  <tbody>\n",
       "    <tr>\n",
       "      <th>Miles</th>\n",
       "      <td> 1.00000</td>\n",
       "      <td> 0.96482</td>\n",
       "      <td> 0.96482</td>\n",
       "    </tr>\n",
       "    <tr>\n",
       "      <th>Seconds</th>\n",
       "      <td> 0.96482</td>\n",
       "      <td> 1.00000</td>\n",
       "      <td> 1.00000</td>\n",
       "    </tr>\n",
       "    <tr>\n",
       "      <th>Minutes</th>\n",
       "      <td> 0.96482</td>\n",
       "      <td> 1.00000</td>\n",
       "      <td> 1.00000</td>\n",
       "    </tr>\n",
       "  </tbody>\n",
       "</table>\n",
       "</div>"
      ],
      "text/plain": [
       "           Miles  Seconds  Minutes\n",
       "Miles    1.00000  0.96482  0.96482\n",
       "Seconds  0.96482  1.00000  1.00000\n",
       "Minutes  0.96482  1.00000  1.00000"
      ]
     },
     "execution_count": 243,
     "metadata": {},
     "output_type": "execute_result"
    }
   ],
   "source": [
    "df.corr(method='spearman')"
   ]
  },
  {
   "cell_type": "markdown",
   "metadata": {},
   "source": [
    "\n",
    "Now let’s see a box plot. With these two we get a much better idea of the data. We can see that most of my runs are below an hour except for a couple that are much longer.-\n"
   ]
  },
  {
   "cell_type": "code",
   "execution_count": 244,
   "metadata": {
    "collapsed": false
   },
   "outputs": [
    {
     "data": {
      "text/plain": [
       "<matplotlib.axes.AxesSubplot at 0x11764efd0>"
      ]
     },
     "execution_count": 244,
     "metadata": {},
     "output_type": "execute_result"
    },
    {
     "data": {
      "image/png": "[encoded data removed]",
      "text/plain": [
       "<matplotlib.figure.Figure at 0x1175bb890>"
      ]
     },
     "metadata": {},
     "output_type": "display_data"
    }
   ],
   "source": [
    "df.boxplot('Minutes', return_type='axes')"
   ]
  },
  {
   "cell_type": "markdown",
   "metadata": {},
   "source": [
    "\n",
    "Now let’s add minutes per mile, we can just divide our two series to get those numbers.\n"
   ]
  },
  {
   "cell_type": "code",
   "execution_count": 245,
   "metadata": {
    "collapsed": false
   },
   "outputs": [
    {
     "data": {
      "text/plain": [
       "Date\n",
       "2014-08-02         NaN\n",
       "2014-08-03         NaN\n",
       "2014-08-04         NaN\n",
       "2014-08-05         NaN\n",
       "2014-08-06         NaN\n",
       "2014-08-07         NaN\n",
       "2014-08-08         NaN\n",
       "2014-08-09         NaN\n",
       "2014-08-10    8.516865\n",
       "2014-08-11    7.854291\n",
       "2014-08-12    7.453052\n",
       "2014-08-13    7.411348\n",
       "2014-08-14    6.962963\n",
       "2014-08-14    6.962963\n",
       "2014-08-15         NaN\n",
       "...\n",
       "2014-12-18         NaN\n",
       "2014-12-19    8.467742\n",
       "2014-12-20    9.121622\n",
       "2014-12-21         NaN\n",
       "2014-12-22    9.032258\n",
       "2014-12-23    9.206631\n",
       "2014-12-24    8.240437\n",
       "2014-12-25    9.459459\n",
       "2014-12-26         NaN\n",
       "2014-12-27         NaN\n",
       "2014-12-28         NaN\n",
       "2014-12-29         NaN\n",
       "2014-12-30    7.037037\n",
       "2014-12-31         NaN\n",
       "2015-01-01    9.951018\n",
       "Length: 166"
      ]
     },
     "execution_count": 245,
     "metadata": {},
     "output_type": "execute_result"
    }
   ],
   "source": [
    "df['Minutes'] / df['Miles']"
   ]
  },
  {
   "cell_type": "code",
   "execution_count": 246,
   "metadata": {
    "collapsed": false
   },
   "outputs": [],
   "source": [
    "df['Min_per_mile'] = df['Minutes'] / df['Miles']"
   ]
  },
  {
   "cell_type": "code",
   "execution_count": 247,
   "metadata": {
    "collapsed": false
   },
   "outputs": [
    {
     "data": {
      "text/html": [
       "<div style=\"max-height:1000px;max-width:1500px;overflow:auto;\">\n",
       "<table border=\"1\" class=\"dataframe\">\n",
       "  <thead>\n",
       "    <tr style=\"text-align: right;\">\n",
       "      <th></th>\n",
       "      <th>Miles</th>\n",
       "      <th>Seconds</th>\n",
       "      <th>Minutes</th>\n",
       "      <th>Min_per_mile</th>\n",
       "    </tr>\n",
       "  </thead>\n",
       "  <tbody>\n",
       "    <tr>\n",
       "      <th>count</th>\n",
       "      <td> 166.000000</td>\n",
       "      <td>    52.000000</td>\n",
       "      <td>  52.000000</td>\n",
       "      <td> 52.000000</td>\n",
       "    </tr>\n",
       "    <tr>\n",
       "      <th>mean</th>\n",
       "      <td>   1.530964</td>\n",
       "      <td>  1901.788462</td>\n",
       "      <td>  31.696474</td>\n",
       "      <td>  7.725297</td>\n",
       "    </tr>\n",
       "    <tr>\n",
       "      <th>std</th>\n",
       "      <td>   2.979802</td>\n",
       "      <td>  2560.424171</td>\n",
       "      <td>  42.673736</td>\n",
       "      <td>  0.954475</td>\n",
       "    </tr>\n",
       "    <tr>\n",
       "      <th>min</th>\n",
       "      <td>   0.000000</td>\n",
       "      <td>   376.000000</td>\n",
       "      <td>   6.266667</td>\n",
       "      <td>  6.000000</td>\n",
       "    </tr>\n",
       "    <tr>\n",
       "      <th>25%</th>\n",
       "      <td>   0.000000</td>\n",
       "      <td>   583.750000</td>\n",
       "      <td>   9.729167</td>\n",
       "      <td>  7.020479</td>\n",
       "    </tr>\n",
       "    <tr>\n",
       "      <th>50%</th>\n",
       "      <td>   0.000000</td>\n",
       "      <td>  1343.500000</td>\n",
       "      <td>  22.391667</td>\n",
       "      <td>  7.533333</td>\n",
       "    </tr>\n",
       "    <tr>\n",
       "      <th>75%</th>\n",
       "      <td>   2.007500</td>\n",
       "      <td>  1743.250000</td>\n",
       "      <td>  29.054167</td>\n",
       "      <td>  8.480023</td>\n",
       "    </tr>\n",
       "    <tr>\n",
       "      <th>max</th>\n",
       "      <td>  26.200000</td>\n",
       "      <td> 15643.000000</td>\n",
       "      <td> 260.716667</td>\n",
       "      <td> 10.000000</td>\n",
       "    </tr>\n",
       "  </tbody>\n",
       "</table>\n",
       "</div>"
      ],
      "text/plain": [
       "            Miles       Seconds     Minutes  Min_per_mile\n",
       "count  166.000000     52.000000   52.000000     52.000000\n",
       "mean     1.530964   1901.788462   31.696474      7.725297\n",
       "std      2.979802   2560.424171   42.673736      0.954475\n",
       "min      0.000000    376.000000    6.266667      6.000000\n",
       "25%      0.000000    583.750000    9.729167      7.020479\n",
       "50%      0.000000   1343.500000   22.391667      7.533333\n",
       "75%      2.007500   1743.250000   29.054167      8.480023\n",
       "max     26.200000  15643.000000  260.716667     10.000000"
      ]
     },
     "execution_count": 247,
     "metadata": {},
     "output_type": "execute_result"
    }
   ],
   "source": [
    "df.describe()"
   ]
  },
  {
   "cell_type": "markdown",
   "metadata": {},
   "source": [
    "\n",
    "We can see that along more shorter distances, my speed can vary a lot.\n"
   ]
  },
  {
   "cell_type": "code",
   "execution_count": 248,
   "metadata": {
    "collapsed": false
   },
   "outputs": [
    {
     "data": {
      "text/plain": [
       "<matplotlib.text.Text at 0x1176a8b50>"
      ]
     },
     "execution_count": 248,
     "metadata": {},
     "output_type": "execute_result"
    },
    {
     "data": {
      "image/png": "[encoded data removed]",
      "text/plain": [
       "<matplotlib.figure.Figure at 0x1175dc590>"
      ]
     },
     "metadata": {},
     "output_type": "display_data"
    }
   ],
   "source": [
    "df.plot(x='Miles', y='Min_per_mile', kind='scatter')\n",
    "plt.ylabel(\"Minutes / Mile\")"
   ]
  },
  {
   "cell_type": "markdown",
   "metadata": {},
   "source": [
    "\n",
    "Let’s see a histogram of my speeds. \n",
    "Histograms are a great way of representing frequency data or how much certain things are occuring.\n"
   ]
  },
  {
   "cell_type": "code",
   "execution_count": 249,
   "metadata": {
    "collapsed": false
   },
   "outputs": [
    {
     "data": {
      "text/plain": [
       "array([[<matplotlib.axes.AxesSubplot object at 0x1176e6790>]], dtype=object)"
      ]
     },
     "execution_count": 249,
     "metadata": {},
     "output_type": "execute_result"
    },
    {
     "data": {
      "image/png": "[encoded data removed]",
      "text/plain": [
       "<matplotlib.figure.Figure at 0x117687e10>"
      ]
     },
     "metadata": {},
     "output_type": "display_data"
    }
   ],
   "source": [
    "df.hist('Min_per_mile')"
   ]
  },
  {
   "cell_type": "markdown",
   "metadata": {},
   "source": [
    "\n",
    "seems pretty center in that 7 minutes to 7.5 minute range. Let’s see if we can get more information with more bins which we specify with the bin argument.\n"
   ]
  },
  {
   "cell_type": "code",
   "execution_count": 250,
   "metadata": {
    "collapsed": false
   },
   "outputs": [
    {
     "data": {
      "text/plain": [
       "array([[<matplotlib.axes.AxesSubplot object at 0x1178c5290>]], dtype=object)"
      ]
     },
     "execution_count": 250,
     "metadata": {},
     "output_type": "execute_result"
    },
    {
     "data": {
      "image/png": "[encoded data removed]",
      "text/plain": [
       "<matplotlib.figure.Figure at 0x1178c61d0>"
      ]
     },
     "metadata": {},
     "output_type": "display_data"
    }
   ],
   "source": [
    "df.hist('Min_per_mile',bins=20)"
   ]
  },
  {
   "cell_type": "markdown",
   "metadata": {},
   "source": [
    "\n",
    "That’s interesting. Under 7 and then at 7.5 are the most popular. I bet that has something to do with my running distances too or the courses I choose to run.\n"
   ]
  },
  {
   "cell_type": "code",
   "execution_count": 251,
   "metadata": {
    "collapsed": false
   },
   "outputs": [
    {
     "data": {
      "image/png": "[encoded data removed]",
      "text/plain": [
       "<matplotlib.figure.Figure at 0x1178d4b90>"
      ]
     },
     "metadata": {},
     "output_type": "display_data"
    }
   ],
   "source": [
    "df.hist('Min_per_mile',bins=20, figsize=(10,8))\n",
    "plt.xlim((5, 11))\n",
    "plt.ylim((0, 12))\n",
    "plt.title(\"Minutes Per Mile Histogram\")\n",
    "plt.grid(False)\n",
    "plt.savefig('../assets/minutes_per_mile_histogram.png')"
   ]
  },
  {
   "cell_type": "code",
   "execution_count": 252,
   "metadata": {
    "collapsed": false
   },
   "outputs": [
    {
     "data": {
      "text/plain": [
       "Date\n",
       "2014-08-02    1.70\n",
       "2014-08-03    1.40\n",
       "2014-08-04    2.10\n",
       "2014-08-05    0.00\n",
       "2014-08-06    2.38\n",
       "2014-08-07    2.30\n",
       "2014-08-08    3.40\n",
       "2014-08-09    2.50\n",
       "2014-08-10    3.36\n",
       "2014-08-11    1.67\n",
       "2014-08-12    1.42\n",
       "2014-08-13    2.35\n",
       "2014-08-14    0.90\n",
       "2014-08-14    0.90\n",
       "2014-08-15    1.78\n",
       "...\n",
       "2014-12-18     0.00\n",
       "2014-12-19     3.10\n",
       "2014-12-20    14.80\n",
       "2014-12-21     0.00\n",
       "2014-12-22     3.10\n",
       "2014-12-23     5.63\n",
       "2014-12-24     3.05\n",
       "2014-12-25    14.80\n",
       "2014-12-26     5.20\n",
       "2014-12-27     0.00\n",
       "2014-12-28     0.00\n",
       "2014-12-29     0.00\n",
       "2014-12-30     3.15\n",
       "2014-12-31     0.00\n",
       "2015-01-01    26.20\n",
       "Name: Miles, Length: 166"
      ]
     },
     "execution_count": 252,
     "metadata": {},
     "output_type": "execute_result"
    }
   ],
   "source": [
    "df['Miles']"
   ]
  },
  {
   "cell_type": "markdown",
   "metadata": {},
   "source": [
    "Now another cool thing you can do with time series is see the rolling mean or rolling sum or even rolling correlations. There’s a lot of different “rolling” type things you can do.\n"
   ]
  },
  {
   "cell_type": "code",
   "execution_count": 253,
   "metadata": {
    "collapsed": false
   },
   "outputs": [
    {
     "data": {
      "text/plain": [
       "<matplotlib.axes.AxesSubplot at 0x11799c050>"
      ]
     },
     "execution_count": 253,
     "metadata": {},
     "output_type": "execute_result"
    },
    {
     "data": {
      "image/png": "[encoded data removed]",
      "text/plain": [
       "<matplotlib.figure.Figure at 0x117946650>"
      ]
     },
     "metadata": {},
     "output_type": "display_data"
    }
   ],
   "source": [
    "df['Miles'].plot()"
   ]
  },
  {
   "cell_type": "markdown",
   "metadata": {},
   "source": [
    "\n",
    "So here’s a standard plot of our Miles again, just a line over time. To add another line to the same plot we just add more details to the box. As I was touching on the rolling values. Let’s talk about the rolling average. Now to do that I pass it a series or a data frame.\n"
   ]
  },
  {
   "cell_type": "code",
   "execution_count": 254,
   "metadata": {
    "collapsed": false
   },
   "outputs": [
    {
     "data": {
      "text/plain": [
       "<matplotlib.axes.AxesSubplot at 0x1176f1850>"
      ]
     },
     "execution_count": 254,
     "metadata": {},
     "output_type": "execute_result"
    },
    {
     "data": {
      "image/png": "[encoded data removed]",
      "text/plain": [
       "<matplotlib.figure.Figure at 0x117a2d590>"
      ]
     },
     "metadata": {},
     "output_type": "display_data"
    }
   ],
   "source": [
    "df['Miles'].plot()\n",
    "pd.rolling_mean(df['Miles'], 7).plot()"
   ]
  },
  {
   "cell_type": "markdown",
   "metadata": {},
   "source": [
    "I can do the same with the rolling standard deviation or sum."
   ]
  },
  {
   "cell_type": "code",
   "execution_count": 255,
   "metadata": {
    "collapsed": false
   },
   "outputs": [
    {
     "data": {
      "text/plain": [
       "<matplotlib.axes.AxesSubplot at 0x1179a0150>"
      ]
     },
     "execution_count": 255,
     "metadata": {},
     "output_type": "execute_result"
    },
    {
     "data": {
      "image/png": "[encoded data removed]",
      "text/plain": [
       "<matplotlib.figure.Figure at 0x117a2d0d0>"
      ]
     },
     "metadata": {},
     "output_type": "display_data"
    }
   ],
   "source": [
    "df['Miles'].plot()\n",
    "pd.rolling_std(df['Miles'], 7).plot()"
   ]
  },
  {
   "cell_type": "code",
   "execution_count": 256,
   "metadata": {
    "collapsed": false
   },
   "outputs": [
    {
     "data": {
      "text/plain": [
       "<matplotlib.axes.AxesSubplot at 0x117b410d0>"
      ]
     },
     "execution_count": 256,
     "metadata": {},
     "output_type": "execute_result"
    },
    {
     "data": {
      "image/png": "[encoded data removed]",
      "text/plain": [
       "<matplotlib.figure.Figure at 0x117a25650>"
      ]
     },
     "metadata": {},
     "output_type": "display_data"
    }
   ],
   "source": [
    "df['Miles'].plot()\n",
    "\n",
    "pd.rolling_sum(df['Miles'], 7).plot()"
   ]
  },
  {
   "cell_type": "markdown",
   "metadata": {},
   "source": [
    "\n",
    "Now on the last note one thing that’s cool about date time indexes is that you can query them very naturally. If I want to get all my runs in october of 2014, I just enter that as a string."
   ]
  },
  {
   "cell_type": "code",
   "execution_count": 257,
   "metadata": {
    "collapsed": false
   },
   "outputs": [
    {
     "data": {
      "text/plain": [
       "<class 'pandas.tseries.index.DatetimeIndex'>\n",
       "[2014-08-02, ..., 2015-01-01]\n",
       "Length: 166, Freq: None, Timezone: None"
      ]
     },
     "execution_count": 257,
     "metadata": {},
     "output_type": "execute_result"
    }
   ],
   "source": [
    "df.index"
   ]
  },
  {
   "cell_type": "markdown",
   "metadata": {},
   "source": [
    "\n",
    "If I want to get from November to December, I can do that as a Series.\n"
   ]
  },
  {
   "cell_type": "code",
   "execution_count": 258,
   "metadata": {
    "collapsed": false
   },
   "outputs": [
    {
     "data": {
      "text/html": [
       "<div style=\"max-height:1000px;max-width:1500px;overflow:auto;\">\n",
       "<table border=\"1\" class=\"dataframe\">\n",
       "  <thead>\n",
       "    <tr style=\"text-align: right;\">\n",
       "      <th></th>\n",
       "      <th>Miles</th>\n",
       "      <th>Time</th>\n",
       "      <th>Seconds</th>\n",
       "      <th>Minutes</th>\n",
       "      <th>Min_per_mile</th>\n",
       "    </tr>\n",
       "    <tr>\n",
       "      <th>Date</th>\n",
       "      <th></th>\n",
       "      <th></th>\n",
       "      <th></th>\n",
       "      <th></th>\n",
       "      <th></th>\n",
       "    </tr>\n",
       "  </thead>\n",
       "  <tbody>\n",
       "    <tr>\n",
       "      <th>2014-11-01</th>\n",
       "      <td>  0.00</td>\n",
       "      <td>     NaN</td>\n",
       "      <td>  NaN</td>\n",
       "      <td>        NaN</td>\n",
       "      <td>      NaN</td>\n",
       "    </tr>\n",
       "    <tr>\n",
       "      <th>2014-11-02</th>\n",
       "      <td>  1.37</td>\n",
       "      <td> 0:08:43</td>\n",
       "      <td>  523</td>\n",
       "      <td>   8.716667</td>\n",
       "      <td> 6.362530</td>\n",
       "    </tr>\n",
       "    <tr>\n",
       "      <th>2014-11-03</th>\n",
       "      <td>  5.30</td>\n",
       "      <td> 0:39:26</td>\n",
       "      <td> 2366</td>\n",
       "      <td>  39.433333</td>\n",
       "      <td> 7.440252</td>\n",
       "    </tr>\n",
       "    <tr>\n",
       "      <th>2014-11-04</th>\n",
       "      <td>  3.05</td>\n",
       "      <td> 0:22:12</td>\n",
       "      <td> 1332</td>\n",
       "      <td>  22.200000</td>\n",
       "      <td> 7.278689</td>\n",
       "    </tr>\n",
       "    <tr>\n",
       "      <th>2014-11-05</th>\n",
       "      <td>  0.00</td>\n",
       "      <td>     NaN</td>\n",
       "      <td>  NaN</td>\n",
       "      <td>        NaN</td>\n",
       "      <td>      NaN</td>\n",
       "    </tr>\n",
       "    <tr>\n",
       "      <th>2014-11-06</th>\n",
       "      <td>  0.00</td>\n",
       "      <td>     NaN</td>\n",
       "      <td>  NaN</td>\n",
       "      <td>        NaN</td>\n",
       "      <td>      NaN</td>\n",
       "    </tr>\n",
       "    <tr>\n",
       "      <th>2014-11-07</th>\n",
       "      <td>  5.63</td>\n",
       "      <td> 0:49:05</td>\n",
       "      <td> 2945</td>\n",
       "      <td>  49.083333</td>\n",
       "      <td> 8.718176</td>\n",
       "    </tr>\n",
       "    <tr>\n",
       "      <th>2014-11-07</th>\n",
       "      <td>  1.26</td>\n",
       "      <td>     NaN</td>\n",
       "      <td>  NaN</td>\n",
       "      <td>        NaN</td>\n",
       "      <td>      NaN</td>\n",
       "    </tr>\n",
       "    <tr>\n",
       "      <th>2014-11-07</th>\n",
       "      <td>  1.20</td>\n",
       "      <td>     NaN</td>\n",
       "      <td>  NaN</td>\n",
       "      <td>        NaN</td>\n",
       "      <td>      NaN</td>\n",
       "    </tr>\n",
       "    <tr>\n",
       "      <th>2014-11-08</th>\n",
       "      <td>  0.00</td>\n",
       "      <td>     NaN</td>\n",
       "      <td>  NaN</td>\n",
       "      <td>        NaN</td>\n",
       "      <td>      NaN</td>\n",
       "    </tr>\n",
       "    <tr>\n",
       "      <th>2014-11-09</th>\n",
       "      <td>  3.05</td>\n",
       "      <td> 0:22:36</td>\n",
       "      <td> 1356</td>\n",
       "      <td>  22.600000</td>\n",
       "      <td> 7.409836</td>\n",
       "    </tr>\n",
       "    <tr>\n",
       "      <th>2014-11-10</th>\n",
       "      <td>  1.50</td>\n",
       "      <td> 0:09:00</td>\n",
       "      <td>  540</td>\n",
       "      <td>   9.000000</td>\n",
       "      <td> 6.000000</td>\n",
       "    </tr>\n",
       "    <tr>\n",
       "      <th>2014-11-10</th>\n",
       "      <td>  1.50</td>\n",
       "      <td> 0:11:33</td>\n",
       "      <td>  693</td>\n",
       "      <td>  11.550000</td>\n",
       "      <td> 7.700000</td>\n",
       "    </tr>\n",
       "    <tr>\n",
       "      <th>2014-11-10</th>\n",
       "      <td>  4.00</td>\n",
       "      <td>     NaN</td>\n",
       "      <td>  NaN</td>\n",
       "      <td>        NaN</td>\n",
       "      <td>      NaN</td>\n",
       "    </tr>\n",
       "    <tr>\n",
       "      <th>2014-11-11</th>\n",
       "      <td>  0.00</td>\n",
       "      <td>     NaN</td>\n",
       "      <td>  NaN</td>\n",
       "      <td>        NaN</td>\n",
       "      <td>      NaN</td>\n",
       "    </tr>\n",
       "    <tr>\n",
       "      <th>2014-11-12</th>\n",
       "      <td>  0.00</td>\n",
       "      <td>     NaN</td>\n",
       "      <td>  NaN</td>\n",
       "      <td>        NaN</td>\n",
       "      <td>      NaN</td>\n",
       "    </tr>\n",
       "    <tr>\n",
       "      <th>2014-11-13</th>\n",
       "      <td>  0.00</td>\n",
       "      <td>     NaN</td>\n",
       "      <td>  NaN</td>\n",
       "      <td>        NaN</td>\n",
       "      <td>      NaN</td>\n",
       "    </tr>\n",
       "    <tr>\n",
       "      <th>2014-11-14</th>\n",
       "      <td>  0.00</td>\n",
       "      <td>     NaN</td>\n",
       "      <td>  NaN</td>\n",
       "      <td>        NaN</td>\n",
       "      <td>      NaN</td>\n",
       "    </tr>\n",
       "    <tr>\n",
       "      <th>2014-11-15</th>\n",
       "      <td>  0.00</td>\n",
       "      <td>     NaN</td>\n",
       "      <td>  NaN</td>\n",
       "      <td>        NaN</td>\n",
       "      <td>      NaN</td>\n",
       "    </tr>\n",
       "    <tr>\n",
       "      <th>2014-11-16</th>\n",
       "      <td>  0.00</td>\n",
       "      <td>     NaN</td>\n",
       "      <td>  NaN</td>\n",
       "      <td>        NaN</td>\n",
       "      <td>      NaN</td>\n",
       "    </tr>\n",
       "    <tr>\n",
       "      <th>2014-11-17</th>\n",
       "      <td>  0.00</td>\n",
       "      <td>     NaN</td>\n",
       "      <td>  NaN</td>\n",
       "      <td>        NaN</td>\n",
       "      <td>      NaN</td>\n",
       "    </tr>\n",
       "    <tr>\n",
       "      <th>2014-11-18</th>\n",
       "      <td>  0.00</td>\n",
       "      <td>     NaN</td>\n",
       "      <td>  NaN</td>\n",
       "      <td>        NaN</td>\n",
       "      <td>      NaN</td>\n",
       "    </tr>\n",
       "    <tr>\n",
       "      <th>2014-11-19</th>\n",
       "      <td>  0.00</td>\n",
       "      <td>     NaN</td>\n",
       "      <td>  NaN</td>\n",
       "      <td>        NaN</td>\n",
       "      <td>      NaN</td>\n",
       "    </tr>\n",
       "    <tr>\n",
       "      <th>2014-11-20</th>\n",
       "      <td>  0.00</td>\n",
       "      <td>     NaN</td>\n",
       "      <td>  NaN</td>\n",
       "      <td>        NaN</td>\n",
       "      <td>      NaN</td>\n",
       "    </tr>\n",
       "    <tr>\n",
       "      <th>2014-11-21</th>\n",
       "      <td>  0.00</td>\n",
       "      <td>     NaN</td>\n",
       "      <td>  NaN</td>\n",
       "      <td>        NaN</td>\n",
       "      <td>      NaN</td>\n",
       "    </tr>\n",
       "    <tr>\n",
       "      <th>2014-11-22</th>\n",
       "      <td>  0.00</td>\n",
       "      <td>     NaN</td>\n",
       "      <td>  NaN</td>\n",
       "      <td>        NaN</td>\n",
       "      <td>      NaN</td>\n",
       "    </tr>\n",
       "    <tr>\n",
       "      <th>2014-11-23</th>\n",
       "      <td>  3.05</td>\n",
       "      <td> 0:22:35</td>\n",
       "      <td> 1355</td>\n",
       "      <td>  22.583333</td>\n",
       "      <td> 7.404372</td>\n",
       "    </tr>\n",
       "    <tr>\n",
       "      <th>2014-11-24</th>\n",
       "      <td>  0.00</td>\n",
       "      <td>     NaN</td>\n",
       "      <td>  NaN</td>\n",
       "      <td>        NaN</td>\n",
       "      <td>      NaN</td>\n",
       "    </tr>\n",
       "    <tr>\n",
       "      <th>2014-11-25</th>\n",
       "      <td>  0.00</td>\n",
       "      <td>     NaN</td>\n",
       "      <td>  NaN</td>\n",
       "      <td>        NaN</td>\n",
       "      <td>      NaN</td>\n",
       "    </tr>\n",
       "    <tr>\n",
       "      <th>2014-11-26</th>\n",
       "      <td>  0.00</td>\n",
       "      <td>     NaN</td>\n",
       "      <td>  NaN</td>\n",
       "      <td>        NaN</td>\n",
       "      <td>      NaN</td>\n",
       "    </tr>\n",
       "    <tr>\n",
       "      <th>...</th>\n",
       "      <td>...</td>\n",
       "      <td>...</td>\n",
       "      <td>...</td>\n",
       "      <td>...</td>\n",
       "      <td>...</td>\n",
       "    </tr>\n",
       "    <tr>\n",
       "      <th>2014-12-03</th>\n",
       "      <td>  0.00</td>\n",
       "      <td>     NaN</td>\n",
       "      <td>  NaN</td>\n",
       "      <td>        NaN</td>\n",
       "      <td>      NaN</td>\n",
       "    </tr>\n",
       "    <tr>\n",
       "      <th>2014-12-04</th>\n",
       "      <td>  0.00</td>\n",
       "      <td>     NaN</td>\n",
       "      <td>  NaN</td>\n",
       "      <td>        NaN</td>\n",
       "      <td>      NaN</td>\n",
       "    </tr>\n",
       "    <tr>\n",
       "      <th>2014-12-05</th>\n",
       "      <td>  0.00</td>\n",
       "      <td>     NaN</td>\n",
       "      <td>  NaN</td>\n",
       "      <td>        NaN</td>\n",
       "      <td>      NaN</td>\n",
       "    </tr>\n",
       "    <tr>\n",
       "      <th>2014-12-06</th>\n",
       "      <td>  0.00</td>\n",
       "      <td>     NaN</td>\n",
       "      <td>  NaN</td>\n",
       "      <td>        NaN</td>\n",
       "      <td>      NaN</td>\n",
       "    </tr>\n",
       "    <tr>\n",
       "      <th>2014-12-07</th>\n",
       "      <td>  0.00</td>\n",
       "      <td>     NaN</td>\n",
       "      <td>  NaN</td>\n",
       "      <td>        NaN</td>\n",
       "      <td>      NaN</td>\n",
       "    </tr>\n",
       "    <tr>\n",
       "      <th>2014-12-08</th>\n",
       "      <td>  0.00</td>\n",
       "      <td>     NaN</td>\n",
       "      <td>  NaN</td>\n",
       "      <td>        NaN</td>\n",
       "      <td>      NaN</td>\n",
       "    </tr>\n",
       "    <tr>\n",
       "      <th>2014-12-09</th>\n",
       "      <td>  2.93</td>\n",
       "      <td> 0:25:00</td>\n",
       "      <td> 1500</td>\n",
       "      <td>  25.000000</td>\n",
       "      <td> 8.532423</td>\n",
       "    </tr>\n",
       "    <tr>\n",
       "      <th>2014-12-10</th>\n",
       "      <td>  0.00</td>\n",
       "      <td>     NaN</td>\n",
       "      <td>  NaN</td>\n",
       "      <td>        NaN</td>\n",
       "      <td>      NaN</td>\n",
       "    </tr>\n",
       "    <tr>\n",
       "      <th>2014-12-11</th>\n",
       "      <td>  0.00</td>\n",
       "      <td>     NaN</td>\n",
       "      <td>  NaN</td>\n",
       "      <td>        NaN</td>\n",
       "      <td>      NaN</td>\n",
       "    </tr>\n",
       "    <tr>\n",
       "      <th>2014-12-12</th>\n",
       "      <td>  1.37</td>\n",
       "      <td> 0:09:15</td>\n",
       "      <td>  555</td>\n",
       "      <td>   9.250000</td>\n",
       "      <td> 6.751825</td>\n",
       "    </tr>\n",
       "    <tr>\n",
       "      <th>2014-12-13</th>\n",
       "      <td>  5.30</td>\n",
       "      <td> 0:43:36</td>\n",
       "      <td> 2616</td>\n",
       "      <td>  43.600000</td>\n",
       "      <td> 8.226415</td>\n",
       "    </tr>\n",
       "    <tr>\n",
       "      <th>2014-12-13</th>\n",
       "      <td>  2.21</td>\n",
       "      <td> 0:18:59</td>\n",
       "      <td> 1139</td>\n",
       "      <td>  18.983333</td>\n",
       "      <td> 8.589744</td>\n",
       "    </tr>\n",
       "    <tr>\n",
       "      <th>2014-12-14</th>\n",
       "      <td>  0.00</td>\n",
       "      <td>     NaN</td>\n",
       "      <td>  NaN</td>\n",
       "      <td>        NaN</td>\n",
       "      <td>      NaN</td>\n",
       "    </tr>\n",
       "    <tr>\n",
       "      <th>2014-12-15</th>\n",
       "      <td>  6.50</td>\n",
       "      <td> 0:58:43</td>\n",
       "      <td> 3523</td>\n",
       "      <td>  58.716667</td>\n",
       "      <td> 9.033333</td>\n",
       "    </tr>\n",
       "    <tr>\n",
       "      <th>2014-12-16</th>\n",
       "      <td>  0.00</td>\n",
       "      <td>     NaN</td>\n",
       "      <td>  NaN</td>\n",
       "      <td>        NaN</td>\n",
       "      <td>      NaN</td>\n",
       "    </tr>\n",
       "    <tr>\n",
       "      <th>2014-12-17</th>\n",
       "      <td> 12.00</td>\n",
       "      <td> 1:39:00</td>\n",
       "      <td> 5940</td>\n",
       "      <td>  99.000000</td>\n",
       "      <td> 8.250000</td>\n",
       "    </tr>\n",
       "    <tr>\n",
       "      <th>2014-12-18</th>\n",
       "      <td>  0.00</td>\n",
       "      <td>     NaN</td>\n",
       "      <td>  NaN</td>\n",
       "      <td>        NaN</td>\n",
       "      <td>      NaN</td>\n",
       "    </tr>\n",
       "    <tr>\n",
       "      <th>2014-12-19</th>\n",
       "      <td>  3.10</td>\n",
       "      <td> 0:26:15</td>\n",
       "      <td> 1575</td>\n",
       "      <td>  26.250000</td>\n",
       "      <td> 8.467742</td>\n",
       "    </tr>\n",
       "    <tr>\n",
       "      <th>2014-12-20</th>\n",
       "      <td> 14.80</td>\n",
       "      <td> 2:15:00</td>\n",
       "      <td> 8100</td>\n",
       "      <td> 135.000000</td>\n",
       "      <td> 9.121622</td>\n",
       "    </tr>\n",
       "    <tr>\n",
       "      <th>2014-12-21</th>\n",
       "      <td>  0.00</td>\n",
       "      <td>     NaN</td>\n",
       "      <td>  NaN</td>\n",
       "      <td>        NaN</td>\n",
       "      <td>      NaN</td>\n",
       "    </tr>\n",
       "    <tr>\n",
       "      <th>2014-12-22</th>\n",
       "      <td>  3.10</td>\n",
       "      <td> 0:28:00</td>\n",
       "      <td> 1680</td>\n",
       "      <td>  28.000000</td>\n",
       "      <td> 9.032258</td>\n",
       "    </tr>\n",
       "    <tr>\n",
       "      <th>2014-12-23</th>\n",
       "      <td>  5.63</td>\n",
       "      <td> 0:51:50</td>\n",
       "      <td> 3110</td>\n",
       "      <td>  51.833333</td>\n",
       "      <td> 9.206631</td>\n",
       "    </tr>\n",
       "    <tr>\n",
       "      <th>2014-12-24</th>\n",
       "      <td>  3.05</td>\n",
       "      <td> 0:25:08</td>\n",
       "      <td> 1508</td>\n",
       "      <td>  25.133333</td>\n",
       "      <td> 8.240437</td>\n",
       "    </tr>\n",
       "    <tr>\n",
       "      <th>2014-12-25</th>\n",
       "      <td> 14.80</td>\n",
       "      <td> 2:20:00</td>\n",
       "      <td> 8400</td>\n",
       "      <td> 140.000000</td>\n",
       "      <td> 9.459459</td>\n",
       "    </tr>\n",
       "    <tr>\n",
       "      <th>2014-12-26</th>\n",
       "      <td>  5.20</td>\n",
       "      <td>     NaN</td>\n",
       "      <td>  NaN</td>\n",
       "      <td>        NaN</td>\n",
       "      <td>      NaN</td>\n",
       "    </tr>\n",
       "    <tr>\n",
       "      <th>2014-12-27</th>\n",
       "      <td>  0.00</td>\n",
       "      <td>     NaN</td>\n",
       "      <td>  NaN</td>\n",
       "      <td>        NaN</td>\n",
       "      <td>      NaN</td>\n",
       "    </tr>\n",
       "    <tr>\n",
       "      <th>2014-12-28</th>\n",
       "      <td>  0.00</td>\n",
       "      <td>     NaN</td>\n",
       "      <td>  NaN</td>\n",
       "      <td>        NaN</td>\n",
       "      <td>      NaN</td>\n",
       "    </tr>\n",
       "    <tr>\n",
       "      <th>2014-12-29</th>\n",
       "      <td>  0.00</td>\n",
       "      <td>     NaN</td>\n",
       "      <td>  NaN</td>\n",
       "      <td>        NaN</td>\n",
       "      <td>      NaN</td>\n",
       "    </tr>\n",
       "    <tr>\n",
       "      <th>2014-12-30</th>\n",
       "      <td>  3.15</td>\n",
       "      <td> 0:22:10</td>\n",
       "      <td> 1330</td>\n",
       "      <td>  22.166667</td>\n",
       "      <td> 7.037037</td>\n",
       "    </tr>\n",
       "    <tr>\n",
       "      <th>2014-12-31</th>\n",
       "      <td>  0.00</td>\n",
       "      <td>     NaN</td>\n",
       "      <td>  NaN</td>\n",
       "      <td>        NaN</td>\n",
       "      <td>      NaN</td>\n",
       "    </tr>\n",
       "  </tbody>\n",
       "</table>\n",
       "<p>66 rows × 5 columns</p>\n",
       "</div>"
      ],
      "text/plain": [
       "            Miles     Time  Seconds     Minutes  Min_per_mile\n",
       "Date                                                         \n",
       "2014-11-01   0.00      NaN      NaN         NaN           NaN\n",
       "2014-11-02   1.37  0:08:43      523    8.716667      6.362530\n",
       "2014-11-03   5.30  0:39:26     2366   39.433333      7.440252\n",
       "2014-11-04   3.05  0:22:12     1332   22.200000      7.278689\n",
       "2014-11-05   0.00      NaN      NaN         NaN           NaN\n",
       "2014-11-06   0.00      NaN      NaN         NaN           NaN\n",
       "2014-11-07   5.63  0:49:05     2945   49.083333      8.718176\n",
       "2014-11-07   1.26      NaN      NaN         NaN           NaN\n",
       "2014-11-07   1.20      NaN      NaN         NaN           NaN\n",
       "2014-11-08   0.00      NaN      NaN         NaN           NaN\n",
       "2014-11-09   3.05  0:22:36     1356   22.600000      7.409836\n",
       "2014-11-10   1.50  0:09:00      540    9.000000      6.000000\n",
       "2014-11-10   1.50  0:11:33      693   11.550000      7.700000\n",
       "2014-11-10   4.00      NaN      NaN         NaN           NaN\n",
       "2014-11-11   0.00      NaN      NaN         NaN           NaN\n",
       "2014-11-12   0.00      NaN      NaN         NaN           NaN\n",
       "2014-11-13   0.00      NaN      NaN         NaN           NaN\n",
       "2014-11-14   0.00      NaN      NaN         NaN           NaN\n",
       "2014-11-15   0.00      NaN      NaN         NaN           NaN\n",
       "2014-11-16   0.00      NaN      NaN         NaN           NaN\n",
       "2014-11-17   0.00      NaN      NaN         NaN           NaN\n",
       "2014-11-18   0.00      NaN      NaN         NaN           NaN\n",
       "2014-11-19   0.00      NaN      NaN         NaN           NaN\n",
       "2014-11-20   0.00      NaN      NaN         NaN           NaN\n",
       "2014-11-21   0.00      NaN      NaN         NaN           NaN\n",
       "2014-11-22   0.00      NaN      NaN         NaN           NaN\n",
       "2014-11-23   3.05  0:22:35     1355   22.583333      7.404372\n",
       "2014-11-24   0.00      NaN      NaN         NaN           NaN\n",
       "2014-11-25   0.00      NaN      NaN         NaN           NaN\n",
       "2014-11-26   0.00      NaN      NaN         NaN           NaN\n",
       "...           ...      ...      ...         ...           ...\n",
       "2014-12-03   0.00      NaN      NaN         NaN           NaN\n",
       "2014-12-04   0.00      NaN      NaN         NaN           NaN\n",
       "2014-12-05   0.00      NaN      NaN         NaN           NaN\n",
       "2014-12-06   0.00      NaN      NaN         NaN           NaN\n",
       "2014-12-07   0.00      NaN      NaN         NaN           NaN\n",
       "2014-12-08   0.00      NaN      NaN         NaN           NaN\n",
       "2014-12-09   2.93  0:25:00     1500   25.000000      8.532423\n",
       "2014-12-10   0.00      NaN      NaN         NaN           NaN\n",
       "2014-12-11   0.00      NaN      NaN         NaN           NaN\n",
       "2014-12-12   1.37  0:09:15      555    9.250000      6.751825\n",
       "2014-12-13   5.30  0:43:36     2616   43.600000      8.226415\n",
       "2014-12-13   2.21  0:18:59     1139   18.983333      8.589744\n",
       "2014-12-14   0.00      NaN      NaN         NaN           NaN\n",
       "2014-12-15   6.50  0:58:43     3523   58.716667      9.033333\n",
       "2014-12-16   0.00      NaN      NaN         NaN           NaN\n",
       "2014-12-17  12.00  1:39:00     5940   99.000000      8.250000\n",
       "2014-12-18   0.00      NaN      NaN         NaN           NaN\n",
       "2014-12-19   3.10  0:26:15     1575   26.250000      8.467742\n",
       "2014-12-20  14.80  2:15:00     8100  135.000000      9.121622\n",
       "2014-12-21   0.00      NaN      NaN         NaN           NaN\n",
       "2014-12-22   3.10  0:28:00     1680   28.000000      9.032258\n",
       "2014-12-23   5.63  0:51:50     3110   51.833333      9.206631\n",
       "2014-12-24   3.05  0:25:08     1508   25.133333      8.240437\n",
       "2014-12-25  14.80  2:20:00     8400  140.000000      9.459459\n",
       "2014-12-26   5.20      NaN      NaN         NaN           NaN\n",
       "2014-12-27   0.00      NaN      NaN         NaN           NaN\n",
       "2014-12-28   0.00      NaN      NaN         NaN           NaN\n",
       "2014-12-29   0.00      NaN      NaN         NaN           NaN\n",
       "2014-12-30   3.15  0:22:10     1330   22.166667      7.037037\n",
       "2014-12-31   0.00      NaN      NaN         NaN           NaN\n",
       "\n",
       "[66 rows x 5 columns]"
      ]
     },
     "execution_count": 258,
     "metadata": {},
     "output_type": "execute_result"
    }
   ],
   "source": [
    "df['2014-11':'2014-12']"
   ]
  },
  {
   "cell_type": "markdown",
   "metadata": {},
   "source": [
    "\n",
    "How do you think we might go from october to January 1 2015?\n",
    "\n",
    "Go ahead and give it a try and see if you can figure it out.\n"
   ]
  },
  {
   "cell_type": "code",
   "execution_count": 259,
   "metadata": {
    "collapsed": false
   },
   "outputs": [
    {
     "data": {
      "text/plain": [
       "<matplotlib.axes.AxesSubplot at 0x117be05d0>"
      ]
     },
     "execution_count": 259,
     "metadata": {},
     "output_type": "execute_result"
    },
    {
     "data": {
      "image/png": "[encoded data removed]",
      "text/plain": [
       "<matplotlib.figure.Figure at 0x117b4ff50>"
      ]
     },
     "metadata": {},
     "output_type": "display_data"
    }
   ],
   "source": [
    "df['2014-11':'2015-1-1']['Miles'].plot()"
   ]
  },
  {
   "cell_type": "markdown",
   "metadata": {},
   "source": [
    "\n",
    "Now we can specify a series this way but we can’t specific a specific date. To get a specific date’s run. \n"
   ]
  },
  {
   "cell_type": "code",
   "execution_count": 260,
   "metadata": {
    "collapsed": false
   },
   "outputs": [
    {
     "ename": "KeyError",
     "evalue": "'2014-8-12'",
     "output_type": "error",
     "traceback": [
      "\u001b[0;31m---------------------------------------------------------------------------\u001b[0m\n\u001b[0;31mKeyError\u001b[0m                                  Traceback (most recent call last)",
      "\u001b[0;32m<ipython-input-260-febf2e11e0d3>\u001b[0m in \u001b[0;36m<module>\u001b[0;34m()\u001b[0m\n\u001b[0;32m----> 1\u001b[0;31m \u001b[0mdf\u001b[0m\u001b[0;34m[\u001b[0m\u001b[0;34m'2014-8-12'\u001b[0m\u001b[0;34m]\u001b[0m\u001b[0;34m\u001b[0m\u001b[0m\n\u001b[0m",
      "\u001b[0;32m/Library/Python/2.7/site-packages/pandas/core/frame.pyc\u001b[0m in \u001b[0;36m__getitem__\u001b[0;34m(self, key)\u001b[0m\n\u001b[1;32m   1741\u001b[0m             \u001b[0;32mreturn\u001b[0m \u001b[0mself\u001b[0m\u001b[0;34m.\u001b[0m\u001b[0m_getitem_multilevel\u001b[0m\u001b[0;34m(\u001b[0m\u001b[0mkey\u001b[0m\u001b[0;34m)\u001b[0m\u001b[0;34m\u001b[0m\u001b[0m\n\u001b[1;32m   1742\u001b[0m         \u001b[0;32melse\u001b[0m\u001b[0;34m:\u001b[0m\u001b[0;34m\u001b[0m\u001b[0m\n\u001b[0;32m-> 1743\u001b[0;31m             \u001b[0;32mreturn\u001b[0m \u001b[0mself\u001b[0m\u001b[0;34m.\u001b[0m\u001b[0m_getitem_column\u001b[0m\u001b[0;34m(\u001b[0m\u001b[0mkey\u001b[0m\u001b[0;34m)\u001b[0m\u001b[0;34m\u001b[0m\u001b[0m\n\u001b[0m\u001b[1;32m   1744\u001b[0m \u001b[0;34m\u001b[0m\u001b[0m\n\u001b[1;32m   1745\u001b[0m     \u001b[0;32mdef\u001b[0m \u001b[0m_getitem_column\u001b[0m\u001b[0;34m(\u001b[0m\u001b[0mself\u001b[0m\u001b[0;34m,\u001b[0m \u001b[0mkey\u001b[0m\u001b[0;34m)\u001b[0m\u001b[0;34m:\u001b[0m\u001b[0;34m\u001b[0m\u001b[0m\n",
      "\u001b[0;32m/Library/Python/2.7/site-packages/pandas/core/frame.pyc\u001b[0m in \u001b[0;36m_getitem_column\u001b[0;34m(self, key)\u001b[0m\n\u001b[1;32m   1748\u001b[0m         \u001b[0;31m# get column\u001b[0m\u001b[0;34m\u001b[0m\u001b[0;34m\u001b[0m\u001b[0m\n\u001b[1;32m   1749\u001b[0m         \u001b[0;32mif\u001b[0m \u001b[0mself\u001b[0m\u001b[0;34m.\u001b[0m\u001b[0mcolumns\u001b[0m\u001b[0;34m.\u001b[0m\u001b[0mis_unique\u001b[0m\u001b[0;34m:\u001b[0m\u001b[0;34m\u001b[0m\u001b[0m\n\u001b[0;32m-> 1750\u001b[0;31m             \u001b[0;32mreturn\u001b[0m \u001b[0mself\u001b[0m\u001b[0;34m.\u001b[0m\u001b[0m_get_item_cache\u001b[0m\u001b[0;34m(\u001b[0m\u001b[0mkey\u001b[0m\u001b[0;34m)\u001b[0m\u001b[0;34m\u001b[0m\u001b[0m\n\u001b[0m\u001b[1;32m   1751\u001b[0m \u001b[0;34m\u001b[0m\u001b[0m\n\u001b[1;32m   1752\u001b[0m         \u001b[0;31m# duplicate columns & possible reduce dimensionaility\u001b[0m\u001b[0;34m\u001b[0m\u001b[0;34m\u001b[0m\u001b[0m\n",
      "\u001b[0;32m/Library/Python/2.7/site-packages/pandas/core/generic.pyc\u001b[0m in \u001b[0;36m_get_item_cache\u001b[0;34m(self, item)\u001b[0m\n\u001b[1;32m   1056\u001b[0m         \u001b[0mres\u001b[0m \u001b[0;34m=\u001b[0m \u001b[0mcache\u001b[0m\u001b[0;34m.\u001b[0m\u001b[0mget\u001b[0m\u001b[0;34m(\u001b[0m\u001b[0mitem\u001b[0m\u001b[0;34m)\u001b[0m\u001b[0;34m\u001b[0m\u001b[0m\n\u001b[1;32m   1057\u001b[0m         \u001b[0;32mif\u001b[0m \u001b[0mres\u001b[0m \u001b[0;32mis\u001b[0m \u001b[0mNone\u001b[0m\u001b[0;34m:\u001b[0m\u001b[0;34m\u001b[0m\u001b[0m\n\u001b[0;32m-> 1058\u001b[0;31m             \u001b[0mvalues\u001b[0m \u001b[0;34m=\u001b[0m \u001b[0mself\u001b[0m\u001b[0;34m.\u001b[0m\u001b[0m_data\u001b[0m\u001b[0;34m.\u001b[0m\u001b[0mget\u001b[0m\u001b[0;34m(\u001b[0m\u001b[0mitem\u001b[0m\u001b[0;34m)\u001b[0m\u001b[0;34m\u001b[0m\u001b[0m\n\u001b[0m\u001b[1;32m   1059\u001b[0m             \u001b[0mres\u001b[0m \u001b[0;34m=\u001b[0m \u001b[0mself\u001b[0m\u001b[0;34m.\u001b[0m\u001b[0m_box_item_values\u001b[0m\u001b[0;34m(\u001b[0m\u001b[0mitem\u001b[0m\u001b[0;34m,\u001b[0m \u001b[0mvalues\u001b[0m\u001b[0;34m)\u001b[0m\u001b[0;34m\u001b[0m\u001b[0m\n\u001b[1;32m   1060\u001b[0m             \u001b[0mcache\u001b[0m\u001b[0;34m[\u001b[0m\u001b[0mitem\u001b[0m\u001b[0;34m]\u001b[0m \u001b[0;34m=\u001b[0m \u001b[0mres\u001b[0m\u001b[0;34m\u001b[0m\u001b[0m\n",
      "\u001b[0;32m/Library/Python/2.7/site-packages/pandas/core/internals.pyc\u001b[0m in \u001b[0;36mget\u001b[0;34m(self, item, fastpath)\u001b[0m\n\u001b[1;32m   2804\u001b[0m \u001b[0;34m\u001b[0m\u001b[0m\n\u001b[1;32m   2805\u001b[0m             \u001b[0;32mif\u001b[0m \u001b[0;32mnot\u001b[0m \u001b[0misnull\u001b[0m\u001b[0;34m(\u001b[0m\u001b[0mitem\u001b[0m\u001b[0;34m)\u001b[0m\u001b[0;34m:\u001b[0m\u001b[0;34m\u001b[0m\u001b[0m\n\u001b[0;32m-> 2806\u001b[0;31m                 \u001b[0mloc\u001b[0m \u001b[0;34m=\u001b[0m \u001b[0mself\u001b[0m\u001b[0;34m.\u001b[0m\u001b[0mitems\u001b[0m\u001b[0;34m.\u001b[0m\u001b[0mget_loc\u001b[0m\u001b[0;34m(\u001b[0m\u001b[0mitem\u001b[0m\u001b[0;34m)\u001b[0m\u001b[0;34m\u001b[0m\u001b[0m\n\u001b[0m\u001b[1;32m   2807\u001b[0m             \u001b[0;32melse\u001b[0m\u001b[0;34m:\u001b[0m\u001b[0;34m\u001b[0m\u001b[0m\n\u001b[1;32m   2808\u001b[0m                 \u001b[0mindexer\u001b[0m \u001b[0;34m=\u001b[0m \u001b[0mnp\u001b[0m\u001b[0;34m.\u001b[0m\u001b[0marange\u001b[0m\u001b[0;34m(\u001b[0m\u001b[0mlen\u001b[0m\u001b[0;34m(\u001b[0m\u001b[0mself\u001b[0m\u001b[0;34m.\u001b[0m\u001b[0mitems\u001b[0m\u001b[0;34m)\u001b[0m\u001b[0;34m)\u001b[0m\u001b[0;34m[\u001b[0m\u001b[0misnull\u001b[0m\u001b[0;34m(\u001b[0m\u001b[0mself\u001b[0m\u001b[0;34m.\u001b[0m\u001b[0mitems\u001b[0m\u001b[0;34m)\u001b[0m\u001b[0;34m]\u001b[0m\u001b[0;34m\u001b[0m\u001b[0m\n",
      "\u001b[0;32m/Library/Python/2.7/site-packages/pandas/core/index.pyc\u001b[0m in \u001b[0;36mget_loc\u001b[0;34m(self, key)\u001b[0m\n\u001b[1;32m   1383\u001b[0m         \u001b[0mloc\u001b[0m \u001b[0;34m:\u001b[0m \u001b[0mint\u001b[0m \u001b[0;32mif\u001b[0m \u001b[0munique\u001b[0m \u001b[0mindex\u001b[0m\u001b[0;34m,\u001b[0m \u001b[0mpossibly\u001b[0m \u001b[0mslice\u001b[0m \u001b[0;32mor\u001b[0m \u001b[0mmask\u001b[0m \u001b[0;32mif\u001b[0m \u001b[0;32mnot\u001b[0m\u001b[0;34m\u001b[0m\u001b[0m\n\u001b[1;32m   1384\u001b[0m         \"\"\"\n\u001b[0;32m-> 1385\u001b[0;31m         \u001b[0;32mreturn\u001b[0m \u001b[0mself\u001b[0m\u001b[0;34m.\u001b[0m\u001b[0m_engine\u001b[0m\u001b[0;34m.\u001b[0m\u001b[0mget_loc\u001b[0m\u001b[0;34m(\u001b[0m\u001b[0m_values_from_object\u001b[0m\u001b[0;34m(\u001b[0m\u001b[0mkey\u001b[0m\u001b[0;34m)\u001b[0m\u001b[0;34m)\u001b[0m\u001b[0;34m\u001b[0m\u001b[0m\n\u001b[0m\u001b[1;32m   1386\u001b[0m \u001b[0;34m\u001b[0m\u001b[0m\n\u001b[1;32m   1387\u001b[0m     \u001b[0;32mdef\u001b[0m \u001b[0mget_value\u001b[0m\u001b[0;34m(\u001b[0m\u001b[0mself\u001b[0m\u001b[0;34m,\u001b[0m \u001b[0mseries\u001b[0m\u001b[0;34m,\u001b[0m \u001b[0mkey\u001b[0m\u001b[0;34m)\u001b[0m\u001b[0;34m:\u001b[0m\u001b[0;34m\u001b[0m\u001b[0m\n",
      "\u001b[0;32m/Library/Python/2.7/site-packages/pandas/index.so\u001b[0m in \u001b[0;36mpandas.index.IndexEngine.get_loc (pandas/index.c:3795)\u001b[0;34m()\u001b[0m\n",
      "\u001b[0;32m/Library/Python/2.7/site-packages/pandas/index.so\u001b[0m in \u001b[0;36mpandas.index.IndexEngine.get_loc (pandas/index.c:3675)\u001b[0;34m()\u001b[0m\n",
      "\u001b[0;32m/Library/Python/2.7/site-packages/pandas/hashtable.so\u001b[0m in \u001b[0;36mpandas.hashtable.PyObjectHashTable.get_item (pandas/hashtable.c:12299)\u001b[0;34m()\u001b[0m\n",
      "\u001b[0;32m/Library/Python/2.7/site-packages/pandas/hashtable.so\u001b[0m in \u001b[0;36mpandas.hashtable.PyObjectHashTable.get_item (pandas/hashtable.c:12250)\u001b[0;34m()\u001b[0m\n",
      "\u001b[0;31mKeyError\u001b[0m: '2014-8-12'"
     ]
    }
   ],
   "source": [
    "df['2014-8-12']"
   ]
  },
  {
   "cell_type": "markdown",
   "metadata": {},
   "source": [
    "To do that we need to use loc."
   ]
  },
  {
   "cell_type": "code",
   "execution_count": 261,
   "metadata": {
    "collapsed": false
   },
   "outputs": [
    {
     "data": {
      "text/plain": [
       "Miles               1.42\n",
       "Time             0:10:35\n",
       "Seconds              635\n",
       "Minutes         10.58333\n",
       "Min_per_mile    7.453052\n",
       "Name: 2014-08-12 00:00:00, dtype: object"
      ]
     },
     "execution_count": 261,
     "metadata": {},
     "output_type": "execute_result"
    }
   ],
   "source": [
    "df.loc['2014-8-12']"
   ]
  },
  {
   "cell_type": "markdown",
   "metadata": {},
   "source": [
    "\n",
    "now that we’ve done all this work. We should save it so that we don’t have to remember what our operations were or what stage we did them at. Now we could save it to csv like we did our other one but I wanted to illustrate all the different ways you can save this file.\n",
    "\n",
    "Let’s save our csv, but we can also save it as an html page(which will give us a table view) or a json file.\n"
   ]
  },
  {
   "cell_type": "code",
   "execution_count": 262,
   "metadata": {
    "collapsed": false
   },
   "outputs": [
    {
     "data": {
      "text/html": [
       "<div style=\"max-height:1000px;max-width:1500px;overflow:auto;\">\n",
       "<table border=\"1\" class=\"dataframe\">\n",
       "  <thead>\n",
       "    <tr style=\"text-align: right;\">\n",
       "      <th></th>\n",
       "      <th>Miles</th>\n",
       "      <th>Time</th>\n",
       "      <th>Seconds</th>\n",
       "      <th>Minutes</th>\n",
       "      <th>Min_per_mile</th>\n",
       "    </tr>\n",
       "    <tr>\n",
       "      <th>Date</th>\n",
       "      <th></th>\n",
       "      <th></th>\n",
       "      <th></th>\n",
       "      <th></th>\n",
       "      <th></th>\n",
       "    </tr>\n",
       "  </thead>\n",
       "  <tbody>\n",
       "    <tr>\n",
       "      <th>2014-08-02</th>\n",
       "      <td> 1.70</td>\n",
       "      <td> NaN</td>\n",
       "      <td>NaN</td>\n",
       "      <td>NaN</td>\n",
       "      <td>NaN</td>\n",
       "    </tr>\n",
       "    <tr>\n",
       "      <th>2014-08-03</th>\n",
       "      <td> 1.40</td>\n",
       "      <td> NaN</td>\n",
       "      <td>NaN</td>\n",
       "      <td>NaN</td>\n",
       "      <td>NaN</td>\n",
       "    </tr>\n",
       "    <tr>\n",
       "      <th>2014-08-04</th>\n",
       "      <td> 2.10</td>\n",
       "      <td> NaN</td>\n",
       "      <td>NaN</td>\n",
       "      <td>NaN</td>\n",
       "      <td>NaN</td>\n",
       "    </tr>\n",
       "    <tr>\n",
       "      <th>2014-08-05</th>\n",
       "      <td> 0.00</td>\n",
       "      <td> NaN</td>\n",
       "      <td>NaN</td>\n",
       "      <td>NaN</td>\n",
       "      <td>NaN</td>\n",
       "    </tr>\n",
       "    <tr>\n",
       "      <th>2014-08-06</th>\n",
       "      <td> 2.38</td>\n",
       "      <td> NaN</td>\n",
       "      <td>NaN</td>\n",
       "      <td>NaN</td>\n",
       "      <td>NaN</td>\n",
       "    </tr>\n",
       "  </tbody>\n",
       "</table>\n",
       "</div>"
      ],
      "text/plain": [
       "            Miles Time  Seconds  Minutes  Min_per_mile\n",
       "Date                                                  \n",
       "2014-08-02   1.70  NaN      NaN      NaN           NaN\n",
       "2014-08-03   1.40  NaN      NaN      NaN           NaN\n",
       "2014-08-04   2.10  NaN      NaN      NaN           NaN\n",
       "2014-08-05   0.00  NaN      NaN      NaN           NaN\n",
       "2014-08-06   2.38  NaN      NaN      NaN           NaN"
      ]
     },
     "execution_count": 262,
     "metadata": {},
     "output_type": "execute_result"
    }
   ],
   "source": [
    "df.head()"
   ]
  },
  {
   "cell_type": "code",
   "execution_count": 263,
   "metadata": {
    "collapsed": false
   },
   "outputs": [],
   "source": [
    "df.to_csv('../data/date_fixed_running_data_with_time.csv')"
   ]
  },
  {
   "cell_type": "code",
   "execution_count": 264,
   "metadata": {
    "collapsed": false
   },
   "outputs": [],
   "source": [
    "df.to_html('../data/date_fixed_running_data_with_time.html')"
   ]
  },
  {
   "cell_type": "markdown",
   "metadata": {},
   "source": [
    "One thing to note with JSON files is that they want unique indexes (because they're going to be come the keys), so we've got to give it a new index. We can do this by resetting our index or setting our index to a column."
   ]
  },
  {
   "cell_type": "code",
   "execution_count": 265,
   "metadata": {
    "collapsed": false
   },
   "outputs": [
    {
     "ename": "ValueError",
     "evalue": "DataFrame index must be unique for orient='columns'.",
     "output_type": "error",
     "traceback": [
      "\u001b[0;31m---------------------------------------------------------------------------\u001b[0m\n\u001b[0;31mValueError\u001b[0m                                Traceback (most recent call last)",
      "\u001b[0;32m<ipython-input-265-c634f3f7ec32>\u001b[0m in \u001b[0;36m<module>\u001b[0;34m()\u001b[0m\n\u001b[0;32m----> 1\u001b[0;31m \u001b[0mdf\u001b[0m\u001b[0;34m.\u001b[0m\u001b[0mto_json\u001b[0m\u001b[0;34m(\u001b[0m\u001b[0;34m'../data/date_fixed_running_data_with_time.json'\u001b[0m\u001b[0;34m)\u001b[0m\u001b[0;34m\u001b[0m\u001b[0m\n\u001b[0m",
      "\u001b[0;32m/Library/Python/2.7/site-packages/pandas/core/generic.pyc\u001b[0m in \u001b[0;36mto_json\u001b[0;34m(self, path_or_buf, orient, date_format, double_precision, force_ascii, date_unit, default_handler)\u001b[0m\n\u001b[1;32m    851\u001b[0m             \u001b[0mforce_ascii\u001b[0m\u001b[0;34m=\u001b[0m\u001b[0mforce_ascii\u001b[0m\u001b[0;34m,\u001b[0m\u001b[0;34m\u001b[0m\u001b[0m\n\u001b[1;32m    852\u001b[0m             \u001b[0mdate_unit\u001b[0m\u001b[0;34m=\u001b[0m\u001b[0mdate_unit\u001b[0m\u001b[0;34m,\u001b[0m\u001b[0;34m\u001b[0m\u001b[0m\n\u001b[0;32m--> 853\u001b[0;31m             default_handler=default_handler)\n\u001b[0m\u001b[1;32m    854\u001b[0m \u001b[0;34m\u001b[0m\u001b[0m\n\u001b[1;32m    855\u001b[0m     \u001b[0;32mdef\u001b[0m \u001b[0mto_hdf\u001b[0m\u001b[0;34m(\u001b[0m\u001b[0mself\u001b[0m\u001b[0;34m,\u001b[0m \u001b[0mpath_or_buf\u001b[0m\u001b[0;34m,\u001b[0m \u001b[0mkey\u001b[0m\u001b[0;34m,\u001b[0m \u001b[0;34m**\u001b[0m\u001b[0mkwargs\u001b[0m\u001b[0;34m)\u001b[0m\u001b[0;34m:\u001b[0m\u001b[0;34m\u001b[0m\u001b[0m\n",
      "\u001b[0;32m/Library/Python/2.7/site-packages/pandas/io/json.pyc\u001b[0m in \u001b[0;36mto_json\u001b[0;34m(path_or_buf, obj, orient, date_format, double_precision, force_ascii, date_unit, default_handler)\u001b[0m\n\u001b[1;32m     32\u001b[0m             \u001b[0mobj\u001b[0m\u001b[0;34m,\u001b[0m \u001b[0morient\u001b[0m\u001b[0;34m=\u001b[0m\u001b[0morient\u001b[0m\u001b[0;34m,\u001b[0m \u001b[0mdate_format\u001b[0m\u001b[0;34m=\u001b[0m\u001b[0mdate_format\u001b[0m\u001b[0;34m,\u001b[0m\u001b[0;34m\u001b[0m\u001b[0m\n\u001b[1;32m     33\u001b[0m             \u001b[0mdouble_precision\u001b[0m\u001b[0;34m=\u001b[0m\u001b[0mdouble_precision\u001b[0m\u001b[0;34m,\u001b[0m \u001b[0mensure_ascii\u001b[0m\u001b[0;34m=\u001b[0m\u001b[0mforce_ascii\u001b[0m\u001b[0;34m,\u001b[0m\u001b[0;34m\u001b[0m\u001b[0m\n\u001b[0;32m---> 34\u001b[0;31m             date_unit=date_unit, default_handler=default_handler).write()\n\u001b[0m\u001b[1;32m     35\u001b[0m     \u001b[0;32melse\u001b[0m\u001b[0;34m:\u001b[0m\u001b[0;34m\u001b[0m\u001b[0m\n\u001b[1;32m     36\u001b[0m         \u001b[0;32mraise\u001b[0m \u001b[0mNotImplementedError\u001b[0m\u001b[0;34m\u001b[0m\u001b[0m\n",
      "\u001b[0;32m/Library/Python/2.7/site-packages/pandas/io/json.pyc\u001b[0m in \u001b[0;36m__init__\u001b[0;34m(self, obj, orient, date_format, double_precision, ensure_ascii, date_unit, default_handler)\u001b[0m\n\u001b[1;32m     62\u001b[0m \u001b[0;34m\u001b[0m\u001b[0m\n\u001b[1;32m     63\u001b[0m         \u001b[0mself\u001b[0m\u001b[0;34m.\u001b[0m\u001b[0mis_copy\u001b[0m \u001b[0;34m=\u001b[0m \u001b[0mNone\u001b[0m\u001b[0;34m\u001b[0m\u001b[0m\n\u001b[0;32m---> 64\u001b[0;31m         \u001b[0mself\u001b[0m\u001b[0;34m.\u001b[0m\u001b[0m_format_axes\u001b[0m\u001b[0;34m(\u001b[0m\u001b[0;34m)\u001b[0m\u001b[0;34m\u001b[0m\u001b[0m\n\u001b[0m\u001b[1;32m     65\u001b[0m \u001b[0;34m\u001b[0m\u001b[0m\n\u001b[1;32m     66\u001b[0m     \u001b[0;32mdef\u001b[0m \u001b[0m_format_axes\u001b[0m\u001b[0;34m(\u001b[0m\u001b[0mself\u001b[0m\u001b[0;34m)\u001b[0m\u001b[0;34m:\u001b[0m\u001b[0;34m\u001b[0m\u001b[0m\n",
      "\u001b[0;32m/Library/Python/2.7/site-packages/pandas/io/json.pyc\u001b[0m in \u001b[0;36m_format_axes\u001b[0;34m(self)\u001b[0m\n\u001b[1;32m     95\u001b[0m                 'index', 'columns'):\n\u001b[1;32m     96\u001b[0m             raise ValueError(\"DataFrame index must be unique for orient=\"\n\u001b[0;32m---> 97\u001b[0;31m                              \"'%s'.\" % self.orient)\n\u001b[0m\u001b[1;32m     98\u001b[0m         if not self.obj.columns.is_unique and self.orient in (\n\u001b[1;32m     99\u001b[0m                 'index', 'columns', 'records'):\n",
      "\u001b[0;31mValueError\u001b[0m: DataFrame index must be unique for orient='columns'."
     ]
    }
   ],
   "source": [
    "df.to_json('../data/date_fixed_running_data_with_time.json')"
   ]
  },
  {
   "cell_type": "code",
   "execution_count": 266,
   "metadata": {
    "collapsed": false
   },
   "outputs": [
    {
     "data": {
      "text/html": [
       "<div style=\"max-height:1000px;max-width:1500px;overflow:auto;\">\n",
       "<table border=\"1\" class=\"dataframe\">\n",
       "  <thead>\n",
       "    <tr style=\"text-align: right;\">\n",
       "      <th></th>\n",
       "      <th>Date</th>\n",
       "      <th>Miles</th>\n",
       "      <th>Time</th>\n",
       "      <th>Seconds</th>\n",
       "      <th>Minutes</th>\n",
       "      <th>Min_per_mile</th>\n",
       "    </tr>\n",
       "  </thead>\n",
       "  <tbody>\n",
       "    <tr>\n",
       "      <th>0  </th>\n",
       "      <td>2014-08-02</td>\n",
       "      <td>  1.70</td>\n",
       "      <td>     NaN</td>\n",
       "      <td>   NaN</td>\n",
       "      <td>        NaN</td>\n",
       "      <td>       NaN</td>\n",
       "    </tr>\n",
       "    <tr>\n",
       "      <th>1  </th>\n",
       "      <td>2014-08-03</td>\n",
       "      <td>  1.40</td>\n",
       "      <td>     NaN</td>\n",
       "      <td>   NaN</td>\n",
       "      <td>        NaN</td>\n",
       "      <td>       NaN</td>\n",
       "    </tr>\n",
       "    <tr>\n",
       "      <th>2  </th>\n",
       "      <td>2014-08-04</td>\n",
       "      <td>  2.10</td>\n",
       "      <td>     NaN</td>\n",
       "      <td>   NaN</td>\n",
       "      <td>        NaN</td>\n",
       "      <td>       NaN</td>\n",
       "    </tr>\n",
       "    <tr>\n",
       "      <th>3  </th>\n",
       "      <td>2014-08-05</td>\n",
       "      <td>  0.00</td>\n",
       "      <td>     NaN</td>\n",
       "      <td>   NaN</td>\n",
       "      <td>        NaN</td>\n",
       "      <td>       NaN</td>\n",
       "    </tr>\n",
       "    <tr>\n",
       "      <th>4  </th>\n",
       "      <td>2014-08-06</td>\n",
       "      <td>  2.38</td>\n",
       "      <td>     NaN</td>\n",
       "      <td>   NaN</td>\n",
       "      <td>        NaN</td>\n",
       "      <td>       NaN</td>\n",
       "    </tr>\n",
       "    <tr>\n",
       "      <th>5  </th>\n",
       "      <td>2014-08-07</td>\n",
       "      <td>  2.30</td>\n",
       "      <td>     NaN</td>\n",
       "      <td>   NaN</td>\n",
       "      <td>        NaN</td>\n",
       "      <td>       NaN</td>\n",
       "    </tr>\n",
       "    <tr>\n",
       "      <th>6  </th>\n",
       "      <td>2014-08-08</td>\n",
       "      <td>  3.40</td>\n",
       "      <td>     NaN</td>\n",
       "      <td>   NaN</td>\n",
       "      <td>        NaN</td>\n",
       "      <td>       NaN</td>\n",
       "    </tr>\n",
       "    <tr>\n",
       "      <th>7  </th>\n",
       "      <td>2014-08-09</td>\n",
       "      <td>  2.50</td>\n",
       "      <td>     NaN</td>\n",
       "      <td>   NaN</td>\n",
       "      <td>        NaN</td>\n",
       "      <td>       NaN</td>\n",
       "    </tr>\n",
       "    <tr>\n",
       "      <th>8  </th>\n",
       "      <td>2014-08-10</td>\n",
       "      <td>  3.36</td>\n",
       "      <td> 0:28:37</td>\n",
       "      <td>  1717</td>\n",
       "      <td>  28.616667</td>\n",
       "      <td>  8.516865</td>\n",
       "    </tr>\n",
       "    <tr>\n",
       "      <th>9  </th>\n",
       "      <td>2014-08-11</td>\n",
       "      <td>  1.67</td>\n",
       "      <td> 0:13:07</td>\n",
       "      <td>   787</td>\n",
       "      <td>  13.116667</td>\n",
       "      <td>  7.854291</td>\n",
       "    </tr>\n",
       "    <tr>\n",
       "      <th>10 </th>\n",
       "      <td>2014-08-12</td>\n",
       "      <td>  1.42</td>\n",
       "      <td> 0:10:35</td>\n",
       "      <td>   635</td>\n",
       "      <td>  10.583333</td>\n",
       "      <td>  7.453052</td>\n",
       "    </tr>\n",
       "    <tr>\n",
       "      <th>11 </th>\n",
       "      <td>2014-08-13</td>\n",
       "      <td>  2.35</td>\n",
       "      <td> 0:17:25</td>\n",
       "      <td>  1045</td>\n",
       "      <td>  17.416667</td>\n",
       "      <td>  7.411348</td>\n",
       "    </tr>\n",
       "    <tr>\n",
       "      <th>12 </th>\n",
       "      <td>2014-08-14</td>\n",
       "      <td>  0.90</td>\n",
       "      <td> 0:06:16</td>\n",
       "      <td>   376</td>\n",
       "      <td>   6.266667</td>\n",
       "      <td>  6.962963</td>\n",
       "    </tr>\n",
       "    <tr>\n",
       "      <th>13 </th>\n",
       "      <td>2014-08-14</td>\n",
       "      <td>  0.90</td>\n",
       "      <td> 0:06:16</td>\n",
       "      <td>   376</td>\n",
       "      <td>   6.266667</td>\n",
       "      <td>  6.962963</td>\n",
       "    </tr>\n",
       "    <tr>\n",
       "      <th>14 </th>\n",
       "      <td>2014-08-15</td>\n",
       "      <td>  1.78</td>\n",
       "      <td>     NaN</td>\n",
       "      <td>   NaN</td>\n",
       "      <td>        NaN</td>\n",
       "      <td>       NaN</td>\n",
       "    </tr>\n",
       "    <tr>\n",
       "      <th>15 </th>\n",
       "      <td>2014-08-16</td>\n",
       "      <td>  0.65</td>\n",
       "      <td>     NaN</td>\n",
       "      <td>   NaN</td>\n",
       "      <td>        NaN</td>\n",
       "      <td>       NaN</td>\n",
       "    </tr>\n",
       "    <tr>\n",
       "      <th>16 </th>\n",
       "      <td>2014-08-17</td>\n",
       "      <td>  1.34</td>\n",
       "      <td>     NaN</td>\n",
       "      <td>   NaN</td>\n",
       "      <td>        NaN</td>\n",
       "      <td>       NaN</td>\n",
       "    </tr>\n",
       "    <tr>\n",
       "      <th>17 </th>\n",
       "      <td>2014-08-18</td>\n",
       "      <td>  0.65</td>\n",
       "      <td>     NaN</td>\n",
       "      <td>   NaN</td>\n",
       "      <td>        NaN</td>\n",
       "      <td>       NaN</td>\n",
       "    </tr>\n",
       "    <tr>\n",
       "      <th>18 </th>\n",
       "      <td>2014-08-19</td>\n",
       "      <td>  1.37</td>\n",
       "      <td>     NaN</td>\n",
       "      <td>   NaN</td>\n",
       "      <td>        NaN</td>\n",
       "      <td>       NaN</td>\n",
       "    </tr>\n",
       "    <tr>\n",
       "      <th>19 </th>\n",
       "      <td>2014-08-19</td>\n",
       "      <td>  1.37</td>\n",
       "      <td>     NaN</td>\n",
       "      <td>   NaN</td>\n",
       "      <td>        NaN</td>\n",
       "      <td>       NaN</td>\n",
       "    </tr>\n",
       "    <tr>\n",
       "      <th>20 </th>\n",
       "      <td>2014-08-20</td>\n",
       "      <td>  1.37</td>\n",
       "      <td> 0:09:33</td>\n",
       "      <td>   573</td>\n",
       "      <td>   9.550000</td>\n",
       "      <td>  6.970803</td>\n",
       "    </tr>\n",
       "    <tr>\n",
       "      <th>21 </th>\n",
       "      <td>2014-08-21</td>\n",
       "      <td>  1.37</td>\n",
       "      <td> 0:09:24</td>\n",
       "      <td>   564</td>\n",
       "      <td>   9.400000</td>\n",
       "      <td>  6.861314</td>\n",
       "    </tr>\n",
       "    <tr>\n",
       "      <th>22 </th>\n",
       "      <td>2014-08-22</td>\n",
       "      <td>  1.37</td>\n",
       "      <td> 0:09:05</td>\n",
       "      <td>   545</td>\n",
       "      <td>   9.083333</td>\n",
       "      <td>  6.630170</td>\n",
       "    </tr>\n",
       "    <tr>\n",
       "      <th>23 </th>\n",
       "      <td>2014-08-23</td>\n",
       "      <td>  1.34</td>\n",
       "      <td>     NaN</td>\n",
       "      <td>   NaN</td>\n",
       "      <td>        NaN</td>\n",
       "      <td>       NaN</td>\n",
       "    </tr>\n",
       "    <tr>\n",
       "      <th>24 </th>\n",
       "      <td>2014-08-24</td>\n",
       "      <td>  3.00</td>\n",
       "      <td>     NaN</td>\n",
       "      <td>   NaN</td>\n",
       "      <td>        NaN</td>\n",
       "      <td>       NaN</td>\n",
       "    </tr>\n",
       "    <tr>\n",
       "      <th>25 </th>\n",
       "      <td>2014-08-25</td>\n",
       "      <td>  1.37</td>\n",
       "      <td> 0:08:55</td>\n",
       "      <td>   535</td>\n",
       "      <td>   8.916667</td>\n",
       "      <td>  6.508516</td>\n",
       "    </tr>\n",
       "    <tr>\n",
       "      <th>26 </th>\n",
       "      <td>2014-08-25</td>\n",
       "      <td>  1.34</td>\n",
       "      <td>     NaN</td>\n",
       "      <td>   NaN</td>\n",
       "      <td>        NaN</td>\n",
       "      <td>       NaN</td>\n",
       "    </tr>\n",
       "    <tr>\n",
       "      <th>27 </th>\n",
       "      <td>2014-08-26</td>\n",
       "      <td>  1.37</td>\n",
       "      <td> 0:10:30</td>\n",
       "      <td>   630</td>\n",
       "      <td>  10.500000</td>\n",
       "      <td>  7.664234</td>\n",
       "    </tr>\n",
       "    <tr>\n",
       "      <th>28 </th>\n",
       "      <td>2014-08-27</td>\n",
       "      <td>  2.50</td>\n",
       "      <td> 0:25:00</td>\n",
       "      <td>  1500</td>\n",
       "      <td>  25.000000</td>\n",
       "      <td> 10.000000</td>\n",
       "    </tr>\n",
       "    <tr>\n",
       "      <th>29 </th>\n",
       "      <td>2014-08-28</td>\n",
       "      <td>  0.00</td>\n",
       "      <td>     NaN</td>\n",
       "      <td>   NaN</td>\n",
       "      <td>        NaN</td>\n",
       "      <td>       NaN</td>\n",
       "    </tr>\n",
       "    <tr>\n",
       "      <th>...</th>\n",
       "      <td>...</td>\n",
       "      <td>...</td>\n",
       "      <td>...</td>\n",
       "      <td>...</td>\n",
       "      <td>...</td>\n",
       "      <td>...</td>\n",
       "    </tr>\n",
       "    <tr>\n",
       "      <th>136</th>\n",
       "      <td>2014-12-04</td>\n",
       "      <td>  0.00</td>\n",
       "      <td>     NaN</td>\n",
       "      <td>   NaN</td>\n",
       "      <td>        NaN</td>\n",
       "      <td>       NaN</td>\n",
       "    </tr>\n",
       "    <tr>\n",
       "      <th>137</th>\n",
       "      <td>2014-12-05</td>\n",
       "      <td>  0.00</td>\n",
       "      <td>     NaN</td>\n",
       "      <td>   NaN</td>\n",
       "      <td>        NaN</td>\n",
       "      <td>       NaN</td>\n",
       "    </tr>\n",
       "    <tr>\n",
       "      <th>138</th>\n",
       "      <td>2014-12-06</td>\n",
       "      <td>  0.00</td>\n",
       "      <td>     NaN</td>\n",
       "      <td>   NaN</td>\n",
       "      <td>        NaN</td>\n",
       "      <td>       NaN</td>\n",
       "    </tr>\n",
       "    <tr>\n",
       "      <th>139</th>\n",
       "      <td>2014-12-07</td>\n",
       "      <td>  0.00</td>\n",
       "      <td>     NaN</td>\n",
       "      <td>   NaN</td>\n",
       "      <td>        NaN</td>\n",
       "      <td>       NaN</td>\n",
       "    </tr>\n",
       "    <tr>\n",
       "      <th>140</th>\n",
       "      <td>2014-12-08</td>\n",
       "      <td>  0.00</td>\n",
       "      <td>     NaN</td>\n",
       "      <td>   NaN</td>\n",
       "      <td>        NaN</td>\n",
       "      <td>       NaN</td>\n",
       "    </tr>\n",
       "    <tr>\n",
       "      <th>141</th>\n",
       "      <td>2014-12-09</td>\n",
       "      <td>  2.93</td>\n",
       "      <td> 0:25:00</td>\n",
       "      <td>  1500</td>\n",
       "      <td>  25.000000</td>\n",
       "      <td>  8.532423</td>\n",
       "    </tr>\n",
       "    <tr>\n",
       "      <th>142</th>\n",
       "      <td>2014-12-10</td>\n",
       "      <td>  0.00</td>\n",
       "      <td>     NaN</td>\n",
       "      <td>   NaN</td>\n",
       "      <td>        NaN</td>\n",
       "      <td>       NaN</td>\n",
       "    </tr>\n",
       "    <tr>\n",
       "      <th>143</th>\n",
       "      <td>2014-12-11</td>\n",
       "      <td>  0.00</td>\n",
       "      <td>     NaN</td>\n",
       "      <td>   NaN</td>\n",
       "      <td>        NaN</td>\n",
       "      <td>       NaN</td>\n",
       "    </tr>\n",
       "    <tr>\n",
       "      <th>144</th>\n",
       "      <td>2014-12-12</td>\n",
       "      <td>  1.37</td>\n",
       "      <td> 0:09:15</td>\n",
       "      <td>   555</td>\n",
       "      <td>   9.250000</td>\n",
       "      <td>  6.751825</td>\n",
       "    </tr>\n",
       "    <tr>\n",
       "      <th>145</th>\n",
       "      <td>2014-12-13</td>\n",
       "      <td>  5.30</td>\n",
       "      <td> 0:43:36</td>\n",
       "      <td>  2616</td>\n",
       "      <td>  43.600000</td>\n",
       "      <td>  8.226415</td>\n",
       "    </tr>\n",
       "    <tr>\n",
       "      <th>146</th>\n",
       "      <td>2014-12-13</td>\n",
       "      <td>  2.21</td>\n",
       "      <td> 0:18:59</td>\n",
       "      <td>  1139</td>\n",
       "      <td>  18.983333</td>\n",
       "      <td>  8.589744</td>\n",
       "    </tr>\n",
       "    <tr>\n",
       "      <th>147</th>\n",
       "      <td>2014-12-14</td>\n",
       "      <td>  0.00</td>\n",
       "      <td>     NaN</td>\n",
       "      <td>   NaN</td>\n",
       "      <td>        NaN</td>\n",
       "      <td>       NaN</td>\n",
       "    </tr>\n",
       "    <tr>\n",
       "      <th>148</th>\n",
       "      <td>2014-12-15</td>\n",
       "      <td>  6.50</td>\n",
       "      <td> 0:58:43</td>\n",
       "      <td>  3523</td>\n",
       "      <td>  58.716667</td>\n",
       "      <td>  9.033333</td>\n",
       "    </tr>\n",
       "    <tr>\n",
       "      <th>149</th>\n",
       "      <td>2014-12-16</td>\n",
       "      <td>  0.00</td>\n",
       "      <td>     NaN</td>\n",
       "      <td>   NaN</td>\n",
       "      <td>        NaN</td>\n",
       "      <td>       NaN</td>\n",
       "    </tr>\n",
       "    <tr>\n",
       "      <th>150</th>\n",
       "      <td>2014-12-17</td>\n",
       "      <td> 12.00</td>\n",
       "      <td> 1:39:00</td>\n",
       "      <td>  5940</td>\n",
       "      <td>  99.000000</td>\n",
       "      <td>  8.250000</td>\n",
       "    </tr>\n",
       "    <tr>\n",
       "      <th>151</th>\n",
       "      <td>2014-12-18</td>\n",
       "      <td>  0.00</td>\n",
       "      <td>     NaN</td>\n",
       "      <td>   NaN</td>\n",
       "      <td>        NaN</td>\n",
       "      <td>       NaN</td>\n",
       "    </tr>\n",
       "    <tr>\n",
       "      <th>152</th>\n",
       "      <td>2014-12-19</td>\n",
       "      <td>  3.10</td>\n",
       "      <td> 0:26:15</td>\n",
       "      <td>  1575</td>\n",
       "      <td>  26.250000</td>\n",
       "      <td>  8.467742</td>\n",
       "    </tr>\n",
       "    <tr>\n",
       "      <th>153</th>\n",
       "      <td>2014-12-20</td>\n",
       "      <td> 14.80</td>\n",
       "      <td> 2:15:00</td>\n",
       "      <td>  8100</td>\n",
       "      <td> 135.000000</td>\n",
       "      <td>  9.121622</td>\n",
       "    </tr>\n",
       "    <tr>\n",
       "      <th>154</th>\n",
       "      <td>2014-12-21</td>\n",
       "      <td>  0.00</td>\n",
       "      <td>     NaN</td>\n",
       "      <td>   NaN</td>\n",
       "      <td>        NaN</td>\n",
       "      <td>       NaN</td>\n",
       "    </tr>\n",
       "    <tr>\n",
       "      <th>155</th>\n",
       "      <td>2014-12-22</td>\n",
       "      <td>  3.10</td>\n",
       "      <td> 0:28:00</td>\n",
       "      <td>  1680</td>\n",
       "      <td>  28.000000</td>\n",
       "      <td>  9.032258</td>\n",
       "    </tr>\n",
       "    <tr>\n",
       "      <th>156</th>\n",
       "      <td>2014-12-23</td>\n",
       "      <td>  5.63</td>\n",
       "      <td> 0:51:50</td>\n",
       "      <td>  3110</td>\n",
       "      <td>  51.833333</td>\n",
       "      <td>  9.206631</td>\n",
       "    </tr>\n",
       "    <tr>\n",
       "      <th>157</th>\n",
       "      <td>2014-12-24</td>\n",
       "      <td>  3.05</td>\n",
       "      <td> 0:25:08</td>\n",
       "      <td>  1508</td>\n",
       "      <td>  25.133333</td>\n",
       "      <td>  8.240437</td>\n",
       "    </tr>\n",
       "    <tr>\n",
       "      <th>158</th>\n",
       "      <td>2014-12-25</td>\n",
       "      <td> 14.80</td>\n",
       "      <td> 2:20:00</td>\n",
       "      <td>  8400</td>\n",
       "      <td> 140.000000</td>\n",
       "      <td>  9.459459</td>\n",
       "    </tr>\n",
       "    <tr>\n",
       "      <th>159</th>\n",
       "      <td>2014-12-26</td>\n",
       "      <td>  5.20</td>\n",
       "      <td>     NaN</td>\n",
       "      <td>   NaN</td>\n",
       "      <td>        NaN</td>\n",
       "      <td>       NaN</td>\n",
       "    </tr>\n",
       "    <tr>\n",
       "      <th>160</th>\n",
       "      <td>2014-12-27</td>\n",
       "      <td>  0.00</td>\n",
       "      <td>     NaN</td>\n",
       "      <td>   NaN</td>\n",
       "      <td>        NaN</td>\n",
       "      <td>       NaN</td>\n",
       "    </tr>\n",
       "    <tr>\n",
       "      <th>161</th>\n",
       "      <td>2014-12-28</td>\n",
       "      <td>  0.00</td>\n",
       "      <td>     NaN</td>\n",
       "      <td>   NaN</td>\n",
       "      <td>        NaN</td>\n",
       "      <td>       NaN</td>\n",
       "    </tr>\n",
       "    <tr>\n",
       "      <th>162</th>\n",
       "      <td>2014-12-29</td>\n",
       "      <td>  0.00</td>\n",
       "      <td>     NaN</td>\n",
       "      <td>   NaN</td>\n",
       "      <td>        NaN</td>\n",
       "      <td>       NaN</td>\n",
       "    </tr>\n",
       "    <tr>\n",
       "      <th>163</th>\n",
       "      <td>2014-12-30</td>\n",
       "      <td>  3.15</td>\n",
       "      <td> 0:22:10</td>\n",
       "      <td>  1330</td>\n",
       "      <td>  22.166667</td>\n",
       "      <td>  7.037037</td>\n",
       "    </tr>\n",
       "    <tr>\n",
       "      <th>164</th>\n",
       "      <td>2014-12-31</td>\n",
       "      <td>  0.00</td>\n",
       "      <td>     NaN</td>\n",
       "      <td>   NaN</td>\n",
       "      <td>        NaN</td>\n",
       "      <td>       NaN</td>\n",
       "    </tr>\n",
       "    <tr>\n",
       "      <th>165</th>\n",
       "      <td>2015-01-01</td>\n",
       "      <td> 26.20</td>\n",
       "      <td> 4:20:43</td>\n",
       "      <td> 15643</td>\n",
       "      <td> 260.716667</td>\n",
       "      <td>  9.951018</td>\n",
       "    </tr>\n",
       "  </tbody>\n",
       "</table>\n",
       "<p>166 rows × 6 columns</p>\n",
       "</div>"
      ],
      "text/plain": [
       "          Date  Miles     Time  Seconds     Minutes  Min_per_mile\n",
       "0   2014-08-02   1.70      NaN      NaN         NaN           NaN\n",
       "1   2014-08-03   1.40      NaN      NaN         NaN           NaN\n",
       "2   2014-08-04   2.10      NaN      NaN         NaN           NaN\n",
       "3   2014-08-05   0.00      NaN      NaN         NaN           NaN\n",
       "4   2014-08-06   2.38      NaN      NaN         NaN           NaN\n",
       "5   2014-08-07   2.30      NaN      NaN         NaN           NaN\n",
       "6   2014-08-08   3.40      NaN      NaN         NaN           NaN\n",
       "7   2014-08-09   2.50      NaN      NaN         NaN           NaN\n",
       "8   2014-08-10   3.36  0:28:37     1717   28.616667      8.516865\n",
       "9   2014-08-11   1.67  0:13:07      787   13.116667      7.854291\n",
       "10  2014-08-12   1.42  0:10:35      635   10.583333      7.453052\n",
       "11  2014-08-13   2.35  0:17:25     1045   17.416667      7.411348\n",
       "12  2014-08-14   0.90  0:06:16      376    6.266667      6.962963\n",
       "13  2014-08-14   0.90  0:06:16      376    6.266667      6.962963\n",
       "14  2014-08-15   1.78      NaN      NaN         NaN           NaN\n",
       "15  2014-08-16   0.65      NaN      NaN         NaN           NaN\n",
       "16  2014-08-17   1.34      NaN      NaN         NaN           NaN\n",
       "17  2014-08-18   0.65      NaN      NaN         NaN           NaN\n",
       "18  2014-08-19   1.37      NaN      NaN         NaN           NaN\n",
       "19  2014-08-19   1.37      NaN      NaN         NaN           NaN\n",
       "20  2014-08-20   1.37  0:09:33      573    9.550000      6.970803\n",
       "21  2014-08-21   1.37  0:09:24      564    9.400000      6.861314\n",
       "22  2014-08-22   1.37  0:09:05      545    9.083333      6.630170\n",
       "23  2014-08-23   1.34      NaN      NaN         NaN           NaN\n",
       "24  2014-08-24   3.00      NaN      NaN         NaN           NaN\n",
       "25  2014-08-25   1.37  0:08:55      535    8.916667      6.508516\n",
       "26  2014-08-25   1.34      NaN      NaN         NaN           NaN\n",
       "27  2014-08-26   1.37  0:10:30      630   10.500000      7.664234\n",
       "28  2014-08-27   2.50  0:25:00     1500   25.000000     10.000000\n",
       "29  2014-08-28   0.00      NaN      NaN         NaN           NaN\n",
       "..         ...    ...      ...      ...         ...           ...\n",
       "136 2014-12-04   0.00      NaN      NaN         NaN           NaN\n",
       "137 2014-12-05   0.00      NaN      NaN         NaN           NaN\n",
       "138 2014-12-06   0.00      NaN      NaN         NaN           NaN\n",
       "139 2014-12-07   0.00      NaN      NaN         NaN           NaN\n",
       "140 2014-12-08   0.00      NaN      NaN         NaN           NaN\n",
       "141 2014-12-09   2.93  0:25:00     1500   25.000000      8.532423\n",
       "142 2014-12-10   0.00      NaN      NaN         NaN           NaN\n",
       "143 2014-12-11   0.00      NaN      NaN         NaN           NaN\n",
       "144 2014-12-12   1.37  0:09:15      555    9.250000      6.751825\n",
       "145 2014-12-13   5.30  0:43:36     2616   43.600000      8.226415\n",
       "146 2014-12-13   2.21  0:18:59     1139   18.983333      8.589744\n",
       "147 2014-12-14   0.00      NaN      NaN         NaN           NaN\n",
       "148 2014-12-15   6.50  0:58:43     3523   58.716667      9.033333\n",
       "149 2014-12-16   0.00      NaN      NaN         NaN           NaN\n",
       "150 2014-12-17  12.00  1:39:00     5940   99.000000      8.250000\n",
       "151 2014-12-18   0.00      NaN      NaN         NaN           NaN\n",
       "152 2014-12-19   3.10  0:26:15     1575   26.250000      8.467742\n",
       "153 2014-12-20  14.80  2:15:00     8100  135.000000      9.121622\n",
       "154 2014-12-21   0.00      NaN      NaN         NaN           NaN\n",
       "155 2014-12-22   3.10  0:28:00     1680   28.000000      9.032258\n",
       "156 2014-12-23   5.63  0:51:50     3110   51.833333      9.206631\n",
       "157 2014-12-24   3.05  0:25:08     1508   25.133333      8.240437\n",
       "158 2014-12-25  14.80  2:20:00     8400  140.000000      9.459459\n",
       "159 2014-12-26   5.20      NaN      NaN         NaN           NaN\n",
       "160 2014-12-27   0.00      NaN      NaN         NaN           NaN\n",
       "161 2014-12-28   0.00      NaN      NaN         NaN           NaN\n",
       "162 2014-12-29   0.00      NaN      NaN         NaN           NaN\n",
       "163 2014-12-30   3.15  0:22:10     1330   22.166667      7.037037\n",
       "164 2014-12-31   0.00      NaN      NaN         NaN           NaN\n",
       "165 2015-01-01  26.20  4:20:43    15643  260.716667      9.951018\n",
       "\n",
       "[166 rows x 6 columns]"
      ]
     },
     "execution_count": 266,
     "metadata": {},
     "output_type": "execute_result"
    }
   ],
   "source": [
    "df.reset_index()"
   ]
  },
  {
   "cell_type": "code",
   "execution_count": 267,
   "metadata": {
    "collapsed": false
   },
   "outputs": [],
   "source": [
    "df['Date'] = df.index"
   ]
  },
  {
   "cell_type": "code",
   "execution_count": 268,
   "metadata": {
    "collapsed": false
   },
   "outputs": [],
   "source": [
    "df.index = range(df.shape[0])"
   ]
  },
  {
   "cell_type": "code",
   "execution_count": 269,
   "metadata": {
    "collapsed": false
   },
   "outputs": [],
   "source": [
    "df.head()\n",
    "df.to_json('../data/date_fixed_running_data_with_time.json')"
   ]
  },
  {
   "cell_type": "markdown",
   "metadata": {},
   "source": [
    "\n",
    "Now there’s a LOT more you can do with date time indexing but this is about all that I wanted to cover in this video. We will get into more specifics later. By now you should be getting a lot more familiar with pandas and what the ipython + pandas workflow is.\n"
   ]
  },
  {
   "cell_type": "code",
   "execution_count": 271,
   "metadata": {
    "collapsed": false
   },
   "outputs": [
    {
     "data": {
      "text/plain": [
       "Timestamp('2014-08-02 00:00:00')"
      ]
     },
     "execution_count": 271,
     "metadata": {},
     "output_type": "execute_result"
    }
   ],
   "source": [
    "df.Date[0]"
   ]
  },
  {
   "cell_type": "code",
   "execution_count": null,
   "metadata": {
    "collapsed": false
   },
   "outputs": [],
   "source": []
  }
 ],
 "metadata": {
  "kernelspec": {
   "display_name": "Python 2",
   "language": "python",
   "name": "python2"
  },
  "language_info": {
   "codemirror_mode": {
    "name": "ipython",
    "version": 2
   },
   "file_extension": ".py",
   "mimetype": "text/x-python",
   "name": "python",
   "nbconvert_exporter": "python",
   "pygments_lexer": "ipython2",
   "version": "2.7.11"
  }
 },
 "nbformat": 4,
 "nbformat_minor": 0
}
